{
 "cells": [
  {
   "cell_type": "code",
   "execution_count": 32,
   "metadata": {},
   "outputs": [
    {
     "name": "stdout",
     "output_type": "stream",
     "text": [
      "[[-4.62841927  0.14045398 61.00363198 ... -2.1630903   2.54450197\n",
      "  -2.54936977]\n",
      " [-3.2197535   1.76679156 64.16266866 ...  1.28008238 -1.08127575\n",
      "  -1.25577947]\n",
      " [-3.78119266 -2.92252723 61.70918048 ... -1.12690879 -1.53628895\n",
      "  -0.89715675]\n",
      " ...\n",
      " [ 1.17612307  0.59633507 -3.57501709 ...  1.54001525 -0.20582597\n",
      "  -1.05492392]\n",
      " [ 1.95241449 -1.1244212  -5.30166137 ... -0.92740921 -2.42782289\n",
      "   0.09826729]\n",
      " [ 1.20600091 -1.78853221 -3.89358172 ... -1.21800036 -2.41541166\n",
      "   0.22866952]]\n"
     ]
    }
   ],
   "source": [
    "from datetime import datetime\n",
    "from uuid import uuid4\n",
    "\n",
    "import numpy as np\n",
    "from dateutil import tz\n",
    "\n",
    "from pynwb import NWBHDF5IO, NWBFile, TimeSeries\n",
    "from pynwb.behavior import Position, SpatialSeries\n",
    "from pynwb.file import Subject\n",
    "\n",
    "with NWBHDF5IO(\"/home/maria/NeuroGarage/hypothalamus/001182/sub-M1-session1/sub-M1-session1_behavior.nwb\", \"r\") as io:\n",
    "    read_nwbfile = io.read()\n",
    "    neural_trace = read_nwbfile.processing['ophys']['NeuralTrace']\n",
    "\n",
    "    data = neural_trace.data[:]\n",
    "    print(data)\n",
    "    "
   ]
  },
  {
   "cell_type": "code",
   "execution_count": 3,
   "metadata": {},
   "outputs": [
    {
     "data": {
      "text/html": [
       "\n",
       "        <style>\n",
       "            .container-fields {\n",
       "                font-family: \"Open Sans\", Arial, sans-serif;\n",
       "            }\n",
       "            .container-fields .field-value {\n",
       "                color: #00788E;\n",
       "            }\n",
       "            .container-fields details > summary {\n",
       "                cursor: pointer;\n",
       "                display: list-item;\n",
       "            }\n",
       "            .container-fields details > summary:hover {\n",
       "                color: #0A6EAA;\n",
       "            }\n",
       "        </style>\n",
       "        \n",
       "        <script>\n",
       "            function copyToClipboard(text) {\n",
       "                navigator.clipboard.writeText(text).then(function() {\n",
       "                    console.log('Copied to clipboard: ' + text);\n",
       "                }, function(err) {\n",
       "                    console.error('Could not copy text: ', err);\n",
       "                });\n",
       "            }\n",
       "\n",
       "            document.addEventListener('DOMContentLoaded', function() {\n",
       "                let fieldKeys = document.querySelectorAll('.container-fields .field-key');\n",
       "                fieldKeys.forEach(function(fieldKey) {\n",
       "                    fieldKey.addEventListener('click', function() {\n",
       "                        let accessCode = fieldKey.getAttribute('title').replace('Access code: ', '');\n",
       "                        copyToClipboard(accessCode);\n",
       "                    });\n",
       "                });\n",
       "            });\n",
       "        </script>\n",
       "        <div class='container-wrap'><div class='container-header'><div class='xr-obj-type'><h3>root (NWBFile)</h3></div></div><div style=\"margin-left: 0px;\" class=\"container-fields\"><span class=\"field-key\" title=\".session_description\">session_description: </span><span class=\"field-value\">defensive_behavior_assay</span></div><div style=\"margin-left: 0px;\" class=\"container-fields\"><span class=\"field-key\" title=\".identifier\">identifier: </span><span class=\"field-value\">970bd4bb-a8db-465f-b078-aae65f111a7f</span></div><details><summary style=\"display: list-item; margin-left: 0px;\" class=\"container-fields field-key\" title=\".session_start_time\"><b>session_start_time</b></summary><span class=\"field-key\">2020-09-16 00:00:00-07:00</span></details><details><summary style=\"display: list-item; margin-left: 0px;\" class=\"container-fields field-key\" title=\".timestamps_reference_time\"><b>timestamps_reference_time</b></summary><span class=\"field-key\">2020-09-16 00:00:00-07:00</span></details><details><summary style=\"display: list-item; margin-left: 0px;\" class=\"container-fields field-key\" title=\".file_create_date\"><b>file_create_date</b></summary><details><summary style=\"display: list-item; margin-left: 20px;\" class=\"container-fields field-key\" title=\".file_create_date[0]\"><b>0</b></summary><span class=\"field-key\">2024-08-27 09:32:11.697002-07:00</span></details></details><details><summary style=\"display: list-item; margin-left: 0px;\" class=\"container-fields field-key\" title=\".experimenter\"><b>experimenter</b></summary><span class=\"field-key\">('Kunwar, Prabhat', 'Li, Lingyun')</span></details><details><summary style=\"display: list-item; margin-left: 0px;\" class=\"container-fields field-key\" title=\".keywords\"><b>keywords</b></summary></details><details><summary style=\"display: list-item; margin-left: 0px;\" class=\"container-fields field-key\" title=\".processing\"><b>processing</b></summary><details><summary style=\"display: list-item; margin-left: 20px;\" class=\"container-fields field-key\" title=\".processing['behavior']\"><b>behavior</b></summary><div style=\"margin-left: 40px;\" class=\"container-fields\"><span class=\"field-key\" title=\".processing['behavior'].description\">description: </span><span class=\"field-value\">Processed behavioral data collected at 11.0hz. Timestamps are in seconds</span></div><details><summary style=\"display: list-item; margin-left: 40px;\" class=\"container-fields field-key\" title=\".processing['behavior'].data_interfaces\"><b>data_interfaces</b></summary><details><summary style=\"display: list-item; margin-left: 60px;\" class=\"container-fields field-key\" title=\".processing['behavior'].data_interfaces['BehavioralEpochs']\"><b>BehavioralEpochs</b></summary><details><summary style=\"display: list-item; margin-left: 80px;\" class=\"container-fields field-key\" title=\".processing['behavior'].data_interfaces['BehavioralEpochs'].interval_series\"><b>interval_series</b></summary><details><summary style=\"display: list-item; margin-left: 100px;\" class=\"container-fields field-key\" title=\".processing['behavior'].data_interfaces['BehavioralEpochs'].interval_series['Ch1: baseline']\"><b>Ch1: baseline</b></summary><div style=\"margin-left: 120px;\" class=\"container-fields\"><span class=\"field-key\" title=\".processing['behavior'].data_interfaces['BehavioralEpochs'].interval_series['Ch1: baseline'].resolution\">resolution: </span><span class=\"field-value\">-1.0</span></div><div style=\"margin-left: 120px;\" class=\"container-fields\"><span class=\"field-key\" title=\".processing['behavior'].data_interfaces['BehavioralEpochs'].interval_series['Ch1: baseline'].comments\">comments: </span><span class=\"field-value\">no comments</span></div><div style=\"margin-left: 120px;\" class=\"container-fields\"><span class=\"field-key\" title=\".processing['behavior'].data_interfaces['BehavioralEpochs'].interval_series['Ch1: baseline'].description\">description: </span><span class=\"field-value\">Intervals where baseline was ocurring.</span></div><div style=\"margin-left: 120px;\" class=\"container-fields\"><span class=\"field-key\" title=\".processing['behavior'].data_interfaces['BehavioralEpochs'].interval_series['Ch1: baseline'].conversion\">conversion: </span><span class=\"field-value\">1.0</span></div><div style=\"margin-left: 120px;\" class=\"container-fields\"><span class=\"field-key\" title=\".processing['behavior'].data_interfaces['BehavioralEpochs'].interval_series['Ch1: baseline'].offset\">offset: </span><span class=\"field-value\">0.0</span></div><div style=\"margin-left: 120px;\" class=\"container-fields\"><span class=\"field-key\" title=\".processing['behavior'].data_interfaces['BehavioralEpochs'].interval_series['Ch1: baseline'].unit\">unit: </span><span class=\"field-value\">n/a</span></div><details><summary style=\"display: list-item; margin-left: 120px;\" class=\"container-fields field-key\" title=\".processing['behavior'].data_interfaces['BehavioralEpochs'].interval_series['Ch1: baseline'].data\"><b>data</b></summary></details><details><summary style=\"display: list-item; margin-left: 120px;\" class=\"container-fields field-key\" title=\".processing['behavior'].data_interfaces['BehavioralEpochs'].interval_series['Ch1: baseline'].timestamps\"><b>timestamps</b></summary></details><div style=\"margin-left: 120px;\" class=\"container-fields\"><span class=\"field-key\" title=\".processing['behavior'].data_interfaces['BehavioralEpochs'].interval_series['Ch1: baseline'].timestamps_unit\">timestamps_unit: </span><span class=\"field-value\">seconds</span></div><div style=\"margin-left: 120px;\" class=\"container-fields\"><span class=\"field-key\" title=\".processing['behavior'].data_interfaces['BehavioralEpochs'].interval_series['Ch1: baseline'].interval\">interval: </span><span class=\"field-value\">1</span></div></details></details></details></details></details><details><summary style=\"display: list-item; margin-left: 20px;\" class=\"container-fields field-key\" title=\".processing['ophys']\"><b>ophys</b></summary><div style=\"margin-left: 40px;\" class=\"container-fields\"><span class=\"field-key\" title=\".processing['ophys'].description\">description: </span><span class=\"field-value\">Preprocessed calcium imaging data (motion correction + CNMFE).</span></div><details><summary style=\"display: list-item; margin-left: 40px;\" class=\"container-fields field-key\" title=\".processing['ophys'].data_interfaces\"><b>data_interfaces</b></summary><details><summary style=\"display: list-item; margin-left: 60px;\" class=\"container-fields field-key\" title=\".processing['ophys'].data_interfaces['NeuralTrace']\"><b>NeuralTrace</b></summary><div style=\"margin-left: 80px;\" class=\"container-fields\"><span class=\"field-key\" title=\".processing['ophys'].data_interfaces['NeuralTrace'].starting_time\">starting_time: </span><span class=\"field-value\">0.0</span></div><div style=\"margin-left: 80px;\" class=\"container-fields\"><span class=\"field-key\" title=\".processing['ophys'].data_interfaces['NeuralTrace'].rate\">rate: </span><span class=\"field-value\">11.0</span></div><div style=\"margin-left: 80px;\" class=\"container-fields\"><span class=\"field-key\" title=\".processing['ophys'].data_interfaces['NeuralTrace'].resolution\">resolution: </span><span class=\"field-value\">-1.0</span></div><div style=\"margin-left: 80px;\" class=\"container-fields\"><span class=\"field-key\" title=\".processing['ophys'].data_interfaces['NeuralTrace'].comments\">comments: </span><span class=\"field-value\">GCaMP6m was used. Units are DF/F.</span></div><div style=\"margin-left: 80px;\" class=\"container-fields\"><span class=\"field-key\" title=\".processing['ophys'].data_interfaces['NeuralTrace'].description\">description: </span><span class=\"field-value\">Calcium imaging neural trace in VMHvl.</span></div><div style=\"margin-left: 80px;\" class=\"container-fields\"><span class=\"field-key\" title=\".processing['ophys'].data_interfaces['NeuralTrace'].conversion\">conversion: </span><span class=\"field-value\">1.0</span></div><div style=\"margin-left: 80px;\" class=\"container-fields\"><span class=\"field-key\" title=\".processing['ophys'].data_interfaces['NeuralTrace'].offset\">offset: </span><span class=\"field-value\">0.0</span></div><div style=\"margin-left: 80px;\" class=\"container-fields\"><span class=\"field-key\" title=\".processing['ophys'].data_interfaces['NeuralTrace'].unit\">unit: </span><span class=\"field-value\">a.u.</span></div><details><summary style=\"display: list-item; margin-left: 80px;\" class=\"container-fields field-key\" title=\".processing['ophys'].data_interfaces['NeuralTrace'].data\"><b>data</b></summary></details><div style=\"margin-left: 80px;\" class=\"container-fields\"><span class=\"field-key\" title=\".processing['ophys'].data_interfaces['NeuralTrace'].starting_time_unit\">starting_time_unit: </span><span class=\"field-value\">seconds</span></div></details></details></details></details><details><summary style=\"display: list-item; margin-left: 0px;\" class=\"container-fields field-key\" title=\".epoch_tags\"><b>epoch_tags</b></summary><span class=\"field-key\">set()</span></details><details><summary style=\"display: list-item; margin-left: 0px;\" class=\"container-fields field-key\" title=\".devices\"><b>devices</b></summary><details><summary style=\"display: list-item; margin-left: 20px;\" class=\"container-fields field-key\" title=\".devices['inscopix-miniscope']\"><b>inscopix-miniscope</b></summary><div style=\"margin-left: 40px;\" class=\"container-fields\"><span class=\"field-key\" title=\".devices['inscopix-miniscope'].description\">description: </span><span class=\"field-value\">1-p miniscope</span></div><div style=\"margin-left: 40px;\" class=\"container-fields\"><span class=\"field-key\" title=\".devices['inscopix-miniscope'].manufacturer\">manufacturer: </span><span class=\"field-value\">Inscopix</span></div></details></details><details><summary style=\"display: list-item; margin-left: 0px;\" class=\"container-fields field-key\" title=\".subject\"><b>subject</b></summary><div style=\"margin-left: 20px;\" class=\"container-fields\"><span class=\"field-key\" title=\".subject.age\">age: </span><span class=\"field-value\">P8W/P20W</span></div><div style=\"margin-left: 20px;\" class=\"container-fields\"><span class=\"field-key\" title=\".subject.age__reference\">age__reference: </span><span class=\"field-value\">birth</span></div><div style=\"margin-left: 20px;\" class=\"container-fields\"><span class=\"field-key\" title=\".subject.description\">description: </span><span class=\"field-value\">mouse</span></div><div style=\"margin-left: 20px;\" class=\"container-fields\"><span class=\"field-key\" title=\".subject.sex\">sex: </span><span class=\"field-value\">M</span></div><div style=\"margin-left: 20px;\" class=\"container-fields\"><span class=\"field-key\" title=\".subject.species\">species: </span><span class=\"field-value\">Mus musculus</span></div><div style=\"margin-left: 20px;\" class=\"container-fields\"><span class=\"field-key\" title=\".subject.subject_id\">subject_id: </span><span class=\"field-value\">M1_session1</span></div></details><div style=\"margin-left: 0px;\" class=\"container-fields\"><span class=\"field-key\" title=\".experiment_description\">experiment_description: </span><span class=\"field-value\">imaging experiments.</span></div><div style=\"margin-left: 0px;\" class=\"container-fields\"><span class=\"field-key\" title=\".lab\">lab: </span><span class=\"field-value\">David Anderson Lab</span></div><div style=\"margin-left: 0px;\" class=\"container-fields\"><span class=\"field-key\" title=\".institution\">institution: </span><span class=\"field-value\">California Institute of Technology</span></div></div>"
      ],
      "text/plain": [
       "root pynwb.file.NWBFile at 0x135231763095968\n",
       "Fields:\n",
       "  devices: {\n",
       "    inscopix-miniscope <class 'pynwb.device.Device'>\n",
       "  }\n",
       "  experiment_description: imaging experiments.\n",
       "  experimenter: ['Kunwar, Prabhat' 'Li, Lingyun']\n",
       "  file_create_date: [datetime.datetime(2024, 8, 27, 9, 32, 11, 697002, tzinfo=tzoffset(None, -25200))]\n",
       "  identifier: 970bd4bb-a8db-465f-b078-aae65f111a7f\n",
       "  institution: California Institute of Technology\n",
       "  lab: David Anderson Lab\n",
       "  processing: {\n",
       "    behavior <class 'pynwb.base.ProcessingModule'>,\n",
       "    ophys <class 'pynwb.base.ProcessingModule'>\n",
       "  }\n",
       "  session_description: defensive_behavior_assay\n",
       "  session_start_time: 2020-09-16 00:00:00-07:00\n",
       "  subject: subject pynwb.file.Subject at 0x135231763100144\n",
       "Fields:\n",
       "  age: P8W/P20W\n",
       "  age__reference: birth\n",
       "  description: mouse\n",
       "  sex: M\n",
       "  species: Mus musculus\n",
       "  subject_id: M1_session1\n",
       "\n",
       "  timestamps_reference_time: 2020-09-16 00:00:00-07:00"
      ]
     },
     "execution_count": 3,
     "metadata": {},
     "output_type": "execute_result"
    }
   ],
   "source": [
    "read_nwbfile"
   ]
  },
  {
   "cell_type": "code",
   "execution_count": 5,
   "metadata": {},
   "outputs": [
    {
     "data": {
      "text/plain": [
       "{'session_description': 'defensive_behavior_assay',\n",
       " 'identifier': '970bd4bb-a8db-465f-b078-aae65f111a7f',\n",
       " 'session_start_time': datetime.datetime(2020, 9, 16, 0, 0, tzinfo=tzoffset(None, -25200)),\n",
       " 'timestamps_reference_time': datetime.datetime(2020, 9, 16, 0, 0, tzinfo=tzoffset(None, -25200)),\n",
       " 'file_create_date': [datetime.datetime(2024, 8, 27, 9, 32, 11, 697002, tzinfo=tzoffset(None, -25200))],\n",
       " 'experimenter': ('Kunwar, Prabhat', 'Li, Lingyun'),\n",
       " 'keywords': <StrDataset for Closed HDF5 dataset>,\n",
       " 'processing': {'behavior': behavior pynwb.base.ProcessingModule at 0x135231763096016\n",
       "  Fields:\n",
       "    data_interfaces: {\n",
       "      BehavioralEpochs <class 'pynwb.behavior.BehavioralEpochs'>\n",
       "    }\n",
       "    description: Processed behavioral data collected at 11.0hz. Timestamps are in seconds,\n",
       "  'ophys': ophys pynwb.base.ProcessingModule at 0x135231763095440\n",
       "  Fields:\n",
       "    data_interfaces: {\n",
       "      NeuralTrace <class 'pynwb.base.TimeSeries'>\n",
       "    }\n",
       "    description: Preprocessed calcium imaging data (motion correction + CNMFE).},\n",
       " 'epoch_tags': set(),\n",
       " 'devices': {'inscopix-miniscope': inscopix-miniscope pynwb.device.Device at 0x135231763100384\n",
       "  Fields:\n",
       "    description: 1-p miniscope\n",
       "    manufacturer: Inscopix},\n",
       " 'subject': subject pynwb.file.Subject at 0x135231763100144\n",
       " Fields:\n",
       "   age: P8W/P20W\n",
       "   age__reference: birth\n",
       "   description: mouse\n",
       "   sex: M\n",
       "   species: Mus musculus\n",
       "   subject_id: M1_session1,\n",
       " 'experiment_description': 'imaging experiments.',\n",
       " 'lab': 'David Anderson Lab',\n",
       " 'institution': 'California Institute of Technology'}"
      ]
     },
     "execution_count": 5,
     "metadata": {},
     "output_type": "execute_result"
    }
   ],
   "source": [
    "read_nwbfile.fields"
   ]
  },
  {
   "cell_type": "code",
   "execution_count": 28,
   "metadata": {},
   "outputs": [
    {
     "data": {
      "text/html": [
       "\n",
       "        <style>\n",
       "            .container-fields {\n",
       "                font-family: \"Open Sans\", Arial, sans-serif;\n",
       "            }\n",
       "            .container-fields .field-value {\n",
       "                color: #00788E;\n",
       "            }\n",
       "            .container-fields details > summary {\n",
       "                cursor: pointer;\n",
       "                display: list-item;\n",
       "            }\n",
       "            .container-fields details > summary:hover {\n",
       "                color: #0A6EAA;\n",
       "            }\n",
       "        </style>\n",
       "        \n",
       "        <script>\n",
       "            function copyToClipboard(text) {\n",
       "                navigator.clipboard.writeText(text).then(function() {\n",
       "                    console.log('Copied to clipboard: ' + text);\n",
       "                }, function(err) {\n",
       "                    console.error('Could not copy text: ', err);\n",
       "                });\n",
       "            }\n",
       "\n",
       "            document.addEventListener('DOMContentLoaded', function() {\n",
       "                let fieldKeys = document.querySelectorAll('.container-fields .field-key');\n",
       "                fieldKeys.forEach(function(fieldKey) {\n",
       "                    fieldKey.addEventListener('click', function() {\n",
       "                        let accessCode = fieldKey.getAttribute('title').replace('Access code: ', '');\n",
       "                        copyToClipboard(accessCode);\n",
       "                    });\n",
       "                });\n",
       "            });\n",
       "        </script>\n",
       "        <div class='container-wrap'><div class='container-header'><div class='xr-obj-type'><h3>NeuralTrace (TimeSeries)</h3></div></div><div style=\"margin-left: 0px;\" class=\"container-fields\"><span class=\"field-key\" title=\".starting_time\">starting_time: </span><span class=\"field-value\">0.0</span></div><div style=\"margin-left: 0px;\" class=\"container-fields\"><span class=\"field-key\" title=\".rate\">rate: </span><span class=\"field-value\">11.0</span></div><div style=\"margin-left: 0px;\" class=\"container-fields\"><span class=\"field-key\" title=\".resolution\">resolution: </span><span class=\"field-value\">-1.0</span></div><div style=\"margin-left: 0px;\" class=\"container-fields\"><span class=\"field-key\" title=\".comments\">comments: </span><span class=\"field-value\">GCaMP6m was used. Units are DF/F.</span></div><div style=\"margin-left: 0px;\" class=\"container-fields\"><span class=\"field-key\" title=\".description\">description: </span><span class=\"field-value\">Calcium imaging neural trace in VMHvl.</span></div><div style=\"margin-left: 0px;\" class=\"container-fields\"><span class=\"field-key\" title=\".conversion\">conversion: </span><span class=\"field-value\">1.0</span></div><div style=\"margin-left: 0px;\" class=\"container-fields\"><span class=\"field-key\" title=\".offset\">offset: </span><span class=\"field-value\">0.0</span></div><div style=\"margin-left: 0px;\" class=\"container-fields\"><span class=\"field-key\" title=\".unit\">unit: </span><span class=\"field-value\">a.u.</span></div><details><summary style=\"display: list-item; margin-left: 0px;\" class=\"container-fields field-key\" title=\".data\"><b>data</b></summary></details><div style=\"margin-left: 0px;\" class=\"container-fields\"><span class=\"field-key\" title=\".starting_time_unit\">starting_time_unit: </span><span class=\"field-value\">seconds</span></div></div>"
      ],
      "text/plain": [
       "NeuralTrace pynwb.base.TimeSeries at 0x135231763100720\n",
       "Fields:\n",
       "  comments: GCaMP6m was used. Units are DF/F.\n",
       "  conversion: 1.0\n",
       "  description: Calcium imaging neural trace in VMHvl.\n",
       "  offset: 0.0\n",
       "  rate: 11.0\n",
       "  resolution: -1.0\n",
       "  starting_time: 0.0\n",
       "  starting_time_unit: seconds\n",
       "  unit: a.u."
      ]
     },
     "execution_count": 28,
     "metadata": {},
     "output_type": "execute_result"
    }
   ],
   "source": [
    "read_nwbfile.processing['ophys']['NeuralTrace']"
   ]
  },
  {
   "cell_type": "code",
   "execution_count": 29,
   "metadata": {},
   "outputs": [
    {
     "ename": "RuntimeError",
     "evalue": "Unable to synchronously get dataspace (invalid dataset identifier)",
     "output_type": "error",
     "traceback": [
      "\u001b[0;31m---------------------------------------------------------------------------\u001b[0m",
      "\u001b[0;31mRuntimeError\u001b[0m                              Traceback (most recent call last)",
      "Cell \u001b[0;32mIn[29], line 3\u001b[0m\n\u001b[1;32m      1\u001b[0m neural_trace \u001b[38;5;241m=\u001b[39m read_nwbfile\u001b[38;5;241m.\u001b[39mprocessing[\u001b[38;5;124m'\u001b[39m\u001b[38;5;124mophys\u001b[39m\u001b[38;5;124m'\u001b[39m][\u001b[38;5;124m'\u001b[39m\u001b[38;5;124mNeuralTrace\u001b[39m\u001b[38;5;124m'\u001b[39m]\n\u001b[0;32m----> 3\u001b[0m data \u001b[38;5;241m=\u001b[39m \u001b[43mneural_trace\u001b[49m\u001b[38;5;241;43m.\u001b[39;49m\u001b[43mdata\u001b[49m\u001b[43m[\u001b[49m\u001b[43m:\u001b[49m\u001b[43m]\u001b[49m\n\u001b[1;32m      5\u001b[0m     \u001b[38;5;66;03m# Get the timestamps associated with the data\u001b[39;00m\n\u001b[1;32m      6\u001b[0m timestamps \u001b[38;5;241m=\u001b[39m neural_trace\u001b[38;5;241m.\u001b[39mtimestamps[:]\n",
      "File \u001b[0;32mh5py/_objects.pyx:54\u001b[0m, in \u001b[0;36mh5py._objects.with_phil.wrapper\u001b[0;34m()\u001b[0m\n",
      "File \u001b[0;32mh5py/_objects.pyx:55\u001b[0m, in \u001b[0;36mh5py._objects.with_phil.wrapper\u001b[0;34m()\u001b[0m\n",
      "File \u001b[0;32m~/NeuroGarage/.venv/lib/python3.10/site-packages/h5py/_hl/dataset.py:756\u001b[0m, in \u001b[0;36mDataset.__getitem__\u001b[0;34m(self, args, new_dtype)\u001b[0m\n\u001b[1;32m    744\u001b[0m \u001b[38;5;250m\u001b[39m\u001b[38;5;124;03m\"\"\" Read a slice from the HDF5 dataset.\u001b[39;00m\n\u001b[1;32m    745\u001b[0m \n\u001b[1;32m    746\u001b[0m \u001b[38;5;124;03mTakes slices and recarray-style field names (more than one is\u001b[39;00m\n\u001b[0;32m   (...)\u001b[0m\n\u001b[1;32m    752\u001b[0m \u001b[38;5;124;03m* Boolean \"mask\" array indexing\u001b[39;00m\n\u001b[1;32m    753\u001b[0m \u001b[38;5;124;03m\"\"\"\u001b[39;00m\n\u001b[1;32m    754\u001b[0m args \u001b[38;5;241m=\u001b[39m args \u001b[38;5;28;01mif\u001b[39;00m \u001b[38;5;28misinstance\u001b[39m(args, \u001b[38;5;28mtuple\u001b[39m) \u001b[38;5;28;01melse\u001b[39;00m (args,)\n\u001b[0;32m--> 756\u001b[0m \u001b[38;5;28;01mif\u001b[39;00m \u001b[38;5;28;43mself\u001b[39;49m\u001b[38;5;241;43m.\u001b[39;49m\u001b[43m_fast_read_ok\u001b[49m \u001b[38;5;129;01mand\u001b[39;00m (new_dtype \u001b[38;5;129;01mis\u001b[39;00m \u001b[38;5;28;01mNone\u001b[39;00m):\n\u001b[1;32m    757\u001b[0m     \u001b[38;5;28;01mtry\u001b[39;00m:\n\u001b[1;32m    758\u001b[0m         \u001b[38;5;28;01mreturn\u001b[39;00m \u001b[38;5;28mself\u001b[39m\u001b[38;5;241m.\u001b[39m_fast_reader\u001b[38;5;241m.\u001b[39mread(args)\n",
      "File \u001b[0;32m~/NeuroGarage/.venv/lib/python3.10/site-packages/h5py/_hl/base.py:536\u001b[0m, in \u001b[0;36mcached_property.__get__\u001b[0;34m(self, obj, cls)\u001b[0m\n\u001b[1;32m    533\u001b[0m \u001b[38;5;28;01mif\u001b[39;00m obj \u001b[38;5;129;01mis\u001b[39;00m \u001b[38;5;28;01mNone\u001b[39;00m:\n\u001b[1;32m    534\u001b[0m     \u001b[38;5;28;01mreturn\u001b[39;00m \u001b[38;5;28mself\u001b[39m\n\u001b[0;32m--> 536\u001b[0m value \u001b[38;5;241m=\u001b[39m obj\u001b[38;5;241m.\u001b[39m\u001b[38;5;18m__dict__\u001b[39m[\u001b[38;5;28mself\u001b[39m\u001b[38;5;241m.\u001b[39mfunc\u001b[38;5;241m.\u001b[39m\u001b[38;5;18m__name__\u001b[39m] \u001b[38;5;241m=\u001b[39m \u001b[38;5;28;43mself\u001b[39;49m\u001b[38;5;241;43m.\u001b[39;49m\u001b[43mfunc\u001b[49m\u001b[43m(\u001b[49m\u001b[43mobj\u001b[49m\u001b[43m)\u001b[49m\n\u001b[1;32m    537\u001b[0m \u001b[38;5;28;01mreturn\u001b[39;00m value\n",
      "File \u001b[0;32m~/NeuroGarage/.venv/lib/python3.10/site-packages/h5py/_hl/dataset.py:738\u001b[0m, in \u001b[0;36mDataset._fast_read_ok\u001b[0;34m(self)\u001b[0m\n\u001b[1;32m    734\u001b[0m \u001b[38;5;129m@cached_property\u001b[39m\n\u001b[1;32m    735\u001b[0m \u001b[38;5;28;01mdef\u001b[39;00m \u001b[38;5;21m_fast_read_ok\u001b[39m(\u001b[38;5;28mself\u001b[39m):\n\u001b[1;32m    736\u001b[0m \u001b[38;5;250m    \u001b[39m\u001b[38;5;124;03m\"\"\"Is this dataset suitable for simple reading\"\"\"\u001b[39;00m\n\u001b[1;32m    737\u001b[0m     \u001b[38;5;28;01mreturn\u001b[39;00m (\n\u001b[0;32m--> 738\u001b[0m         \u001b[38;5;28;43mself\u001b[39;49m\u001b[38;5;241;43m.\u001b[39;49m\u001b[43m_extent_type\u001b[49m \u001b[38;5;241m==\u001b[39m h5s\u001b[38;5;241m.\u001b[39mSIMPLE\n\u001b[1;32m    739\u001b[0m         \u001b[38;5;129;01mand\u001b[39;00m \u001b[38;5;28misinstance\u001b[39m(\u001b[38;5;28mself\u001b[39m\u001b[38;5;241m.\u001b[39mid\u001b[38;5;241m.\u001b[39mget_type(), (h5t\u001b[38;5;241m.\u001b[39mTypeIntegerID, h5t\u001b[38;5;241m.\u001b[39mTypeFloatID))\n\u001b[1;32m    740\u001b[0m     )\n",
      "File \u001b[0;32m~/NeuroGarage/.venv/lib/python3.10/site-packages/h5py/_hl/base.py:536\u001b[0m, in \u001b[0;36mcached_property.__get__\u001b[0;34m(self, obj, cls)\u001b[0m\n\u001b[1;32m    533\u001b[0m \u001b[38;5;28;01mif\u001b[39;00m obj \u001b[38;5;129;01mis\u001b[39;00m \u001b[38;5;28;01mNone\u001b[39;00m:\n\u001b[1;32m    534\u001b[0m     \u001b[38;5;28;01mreturn\u001b[39;00m \u001b[38;5;28mself\u001b[39m\n\u001b[0;32m--> 536\u001b[0m value \u001b[38;5;241m=\u001b[39m obj\u001b[38;5;241m.\u001b[39m\u001b[38;5;18m__dict__\u001b[39m[\u001b[38;5;28mself\u001b[39m\u001b[38;5;241m.\u001b[39mfunc\u001b[38;5;241m.\u001b[39m\u001b[38;5;18m__name__\u001b[39m] \u001b[38;5;241m=\u001b[39m \u001b[38;5;28;43mself\u001b[39;49m\u001b[38;5;241;43m.\u001b[39;49m\u001b[43mfunc\u001b[49m\u001b[43m(\u001b[49m\u001b[43mobj\u001b[49m\u001b[43m)\u001b[49m\n\u001b[1;32m    537\u001b[0m \u001b[38;5;28;01mreturn\u001b[39;00m value\n",
      "File \u001b[0;32mh5py/_objects.pyx:54\u001b[0m, in \u001b[0;36mh5py._objects.with_phil.wrapper\u001b[0;34m()\u001b[0m\n",
      "File \u001b[0;32mh5py/_objects.pyx:55\u001b[0m, in \u001b[0;36mh5py._objects.with_phil.wrapper\u001b[0;34m()\u001b[0m\n",
      "File \u001b[0;32m~/NeuroGarage/.venv/lib/python3.10/site-packages/h5py/_hl/dataset.py:629\u001b[0m, in \u001b[0;36mDataset._extent_type\u001b[0;34m(self)\u001b[0m\n\u001b[1;32m    625\u001b[0m \u001b[38;5;129m@cached_property\u001b[39m\n\u001b[1;32m    626\u001b[0m \u001b[38;5;129m@with_phil\u001b[39m\n\u001b[1;32m    627\u001b[0m \u001b[38;5;28;01mdef\u001b[39;00m \u001b[38;5;21m_extent_type\u001b[39m(\u001b[38;5;28mself\u001b[39m):\n\u001b[1;32m    628\u001b[0m \u001b[38;5;250m    \u001b[39m\u001b[38;5;124;03m\"\"\"Get extent type for this dataset - SIMPLE, SCALAR or NULL\"\"\"\u001b[39;00m\n\u001b[0;32m--> 629\u001b[0m     \u001b[38;5;28;01mreturn\u001b[39;00m \u001b[38;5;28;43mself\u001b[39;49m\u001b[38;5;241;43m.\u001b[39;49m\u001b[43mid\u001b[49m\u001b[38;5;241;43m.\u001b[39;49m\u001b[43mget_space\u001b[49m\u001b[43m(\u001b[49m\u001b[43m)\u001b[49m\u001b[38;5;241m.\u001b[39mget_simple_extent_type()\n",
      "File \u001b[0;32mh5py/_objects.pyx:54\u001b[0m, in \u001b[0;36mh5py._objects.with_phil.wrapper\u001b[0;34m()\u001b[0m\n",
      "File \u001b[0;32mh5py/_objects.pyx:55\u001b[0m, in \u001b[0;36mh5py._objects.with_phil.wrapper\u001b[0;34m()\u001b[0m\n",
      "File \u001b[0;32mh5py/h5d.pyx:349\u001b[0m, in \u001b[0;36mh5py.h5d.DatasetID.get_space\u001b[0;34m()\u001b[0m\n",
      "\u001b[0;31mRuntimeError\u001b[0m: Unable to synchronously get dataspace (invalid dataset identifier)"
     ]
    }
   ],
   "source": [
    "neural_trace = read_nwbfile.processing['ophys']['NeuralTrace']\n",
    "\n",
    "data = neural_trace.data[:]\n",
    "    \n",
    "    # Get the timestamps associated with the data\n",
    "timestamps = neural_trace.timestamps[:]\n",
    "    \n",
    "    # If timestamps are not explicitly stored, use the starting time and rate\n",
    "if timestamps is None:\n",
    "    timestamps = neural_trace.starting_time + np.arange(len(data)) / neural_trace.rate\n"
   ]
  },
  {
   "cell_type": "code",
   "execution_count": 35,
   "metadata": {},
   "outputs": [
    {
     "name": "stdout",
     "output_type": "stream",
     "text": [
      "(22540, 24)\n"
     ]
    },
    {
     "data": {
      "text/plain": [
       "[<matplotlib.lines.Line2D at 0x7afde3d26470>]"
      ]
     },
     "execution_count": 35,
     "metadata": {},
     "output_type": "execute_result"
    },
    {
     "data": {
      "image/png": "[encoded data removed]",
      "text/plain": [
       "<Figure size 640x480 with 1 Axes>"
      ]
     },
     "metadata": {},
     "output_type": "display_data"
    }
   ],
   "source": [
    "import matplotlib.pyplot as plt\n",
    "\n",
    "print(data.shape)\n",
    "plt.plot(data[:,0])"
   ]
  }
 ],
 "metadata": {
  "kernelspec": {
   "display_name": ".venv",
   "language": "python",
   "name": "python3"
  },
  "language_info": {
   "codemirror_mode": {
    "name": "ipython",
    "version": 3
   },
   "file_extension": ".py",
   "mimetype": "text/x-python",
   "name": "python",
   "nbconvert_exporter": "python",
   "pygments_lexer": "ipython3",
   "version": "3.10.14"
  }
 },
 "nbformat": 4,
 "nbformat_minor": 2
}
