{
 "cells": [
  {
   "cell_type": "code",
   "execution_count": 2,
   "metadata": {},
   "outputs": [
    {
     "name": "stdout",
     "output_type": "stream",
     "text": [
      "mary\n",
      "('m', 'a', 'r', 'y')\n",
      "mayr\n",
      "('m', 'a', 'y', 'r')\n",
      "mray\n",
      "('m', 'r', 'a', 'y')\n",
      "mrya\n",
      "('m', 'r', 'y', 'a')\n",
      "myar\n",
      "('m', 'y', 'a', 'r')\n",
      "myra\n",
      "('m', 'y', 'r', 'a')\n",
      "amry\n",
      "('a', 'm', 'r', 'y')\n",
      "amyr\n",
      "('a', 'm', 'y', 'r')\n",
      "army\n",
      "('a', 'r', 'm', 'y')\n",
      "arym\n",
      "('a', 'r', 'y', 'm')\n",
      "aymr\n",
      "('a', 'y', 'm', 'r')\n",
      "ayrm\n",
      "('a', 'y', 'r', 'm')\n",
      "rmay\n",
      "('r', 'm', 'a', 'y')\n",
      "rmya\n",
      "('r', 'm', 'y', 'a')\n",
      "ramy\n",
      "('r', 'a', 'm', 'y')\n",
      "raym\n",
      "('r', 'a', 'y', 'm')\n",
      "ryma\n",
      "('r', 'y', 'm', 'a')\n",
      "ryam\n",
      "('r', 'y', 'a', 'm')\n",
      "ymar\n",
      "('y', 'm', 'a', 'r')\n",
      "ymra\n",
      "('y', 'm', 'r', 'a')\n",
      "yamr\n",
      "('y', 'a', 'm', 'r')\n",
      "yarm\n",
      "('y', 'a', 'r', 'm')\n",
      "yrma\n",
      "('y', 'r', 'm', 'a')\n",
      "yram\n",
      "('y', 'r', 'a', 'm')\n"
     ]
    }
   ],
   "source": [
    "from itertools import permutations\n",
    "\n",
    "# Define the letters\n",
    "letters = \"mary\"\n",
    "\n",
    "# Generate all permutations\n",
    "all_permutations = permutations(letters)\n",
    "\n",
    "# Print the permutations\n",
    "for perm in all_permutations:\n",
    "    print(\"\".join(perm))\n",
    "    print(perm)"
   ]
  },
  {
   "cell_type": "code",
   "execution_count": 6,
   "metadata": {},
   "outputs": [
    {
     "name": "stdout",
     "output_type": "stream",
     "text": [
      "mary\n",
      "mayr\n",
      "mray\n",
      "mrya\n",
      "myar\n",
      "myra\n",
      "amry\n",
      "amyr\n",
      "army\n",
      "arym\n",
      "aymr\n",
      "ayrm\n",
      "rmay\n",
      "rmya\n",
      "ramy\n",
      "raym\n",
      "ryma\n",
      "ryam\n",
      "ymar\n",
      "ymra\n",
      "yamr\n",
      "yarm\n",
      "yrma\n",
      "yram\n",
      "['mary', 'mayr', 'mray', 'mrya', 'myar', 'myra', 'amry', 'amyr', 'army', 'arym', 'aymr', 'ayrm', 'rmay', 'rmya', 'ramy', 'raym', 'ryma', 'ryam', 'ymar', 'ymra', 'yamr', 'yarm', 'yrma', 'yram']\n",
      "24\n"
     ]
    }
   ],
   "source": [
    "def generate_permutation(letters, permutation, permutation_list=[]):\n",
    "    if not letters:\n",
    "        print(permutation)\n",
    "        permutation_list.append(permutation)\n",
    "    else:\n",
    "        for i in range(len(letters)):\n",
    "            new_permutation = permutation + letters[i]\n",
    "            new_letters = letters[:i] + letters[i+1:]\n",
    "            generate_permutation(new_letters, new_permutation, permutation_list)\n",
    "    return permutation_list\n",
    "\n",
    "perm=generate_permutation(\"mary\",\"\")\n",
    "print(perm)\n",
    "print(len(perm))"
   ]
  },
  {
   "cell_type": "code",
   "execution_count": 7,
   "metadata": {},
   "outputs": [
    {
     "name": "stdout",
     "output_type": "stream",
     "text": [
      "['mary', 'mayr', 'mray', 'mrya', 'myar', 'myra', 'amry', 'army', 'rmay', 'ramy']\n",
      "['mary', 'mray']\n"
     ]
    }
   ],
   "source": [
    "union=[]\n",
    "intersection=[]\n",
    "for p in perm:\n",
    "    if p[0]==\"m\" or p[-1]==\"y\":\n",
    "        union.append(p)\n",
    "    if p[0]==\"m\" and p[-1]==\"y\":\n",
    "        intersection.append(p)\n",
    "print(union)\n",
    "print(intersection)"
   ]
  },
  {
   "cell_type": "code",
   "execution_count": 15,
   "metadata": {},
   "outputs": [
    {
     "data": {
      "text/plain": [
       "4.5"
      ]
     },
     "execution_count": 15,
     "metadata": {},
     "output_type": "execute_result"
    }
   ],
   "source": [
    "dat=[(-5,-10),(0,3),(2,11),(3,14)]\n",
    "\n",
    "y_bar=sum([x[1] for x in dat])/4\n",
    "xy_bar=sum([x[0]*x[1] for x in dat])/4\n",
    "x_bar=sum([x[0] for x in dat])/4\n",
    "x2_bar=sum([x[0]**2 for x in dat])/4\n",
    "x_bar2=x_bar**2\n",
    "\n",
    "a=y_bar-(xy_bar-x_bar*y_bar)/(x2_bar-x_bar2)*x_bar\n",
    "a\n",
    "b=(xy_bar-x_bar*y_bar)/(x2_bar-x_bar2)\n",
    "a"
   ]
  }
 ],
 "metadata": {
  "kernelspec": {
   "display_name": ".venv",
   "language": "python",
   "name": "python3"
  },
  "language_info": {
   "codemirror_mode": {
    "name": "ipython",
    "version": 3
   },
   "file_extension": ".py",
   "mimetype": "text/x-python",
   "name": "python",
   "nbconvert_exporter": "python",
   "pygments_lexer": "ipython3",
   "version": "3.10.15"
  }
 },
 "nbformat": 4,
 "nbformat_minor": 2
}
