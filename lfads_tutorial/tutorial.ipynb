{
 "cells": [
  {
   "cell_type": "code",
   "execution_count": 1,
   "metadata": {},
   "outputs": [
    {
     "name": "stderr",
     "output_type": "stream",
     "text": [
      "/home/maria/NeuroGarage/.venv/lib/python3.10/site-packages/tqdm/auto.py:21: TqdmWarning: IProgress not found. Please update jupyter and ipywidgets. See https://ipywidgets.readthedocs.io/en/stable/user_install.html\n",
      "  from .autonotebook import tqdm as notebook_tqdm\n"
     ]
    }
   ],
   "source": [
    "import matplotlib.pyplot as plt\n",
    "from tqdm.auto import trange\n",
    "\n",
    "import torch\n",
    "import torch.nn as nn\n",
    "import torch.nn.functional as F\n",
    "import torch.optim as optim\n",
    "from torch.distributions import Normal, Poisson, Uniform, kl_divergence\n",
    "from torch.optim import lr_scheduler\n",
    "from torch.utils.data import Dataset, DataLoader\n"
   ]
  },
  {
   "cell_type": "code",
   "execution_count": 2,
   "metadata": {},
   "outputs": [],
   "source": [
    "rate0 = 2 * torch.pi / 20.0\n",
    "# rate1 = 1.4142 * 2 * torch.pi / 20.0\n",
    "rate1 = 2 * rate0\n",
    "\n",
    "def sample_trial(weights, bias,\n",
    "                 num_timesteps=100,\n",
    "                 rate0=rate0,\n",
    "                 rate1=rate1,\n",
    "                 kick_prob=0.05):\n",
    "    \"\"\"Sample a single trial of data according to the model above.\n",
    "    \"\"\"\n",
    "    theta = torch.zeros(num_timesteps, 2)\n",
    "    u = torch.zeros(num_timesteps, 1)\n",
    "    for t in range(1, num_timesteps):\n",
    "        if torch.rand(1) < kick_prob:\n",
    "            u[t] = Uniform(0, 2 * torch.pi).sample()\n",
    "        theta[t, 0] = theta[t-1, 0] + rate0 + u[t]\n",
    "        theta[t, 1] = theta[t-1, 1] + rate1 + u[t]\n",
    "\n",
    "    x = torch.column_stack([torch.cos(theta), torch.sin(theta)])\n",
    "    y = Poisson(F.softplus(x @ weights.T + bias)).sample()\n",
    "    return u, x, y\n"
   ]
  },
  {
   "cell_type": "code",
   "execution_count": 8,
   "metadata": {},
   "outputs": [
    {
     "name": "stdout",
     "output_type": "stream",
     "text": [
      "torch.Size([10]) torch.Size([10, 4])\n",
      "tensor([-2.0945, -1.7191,  0.7219, -0.2179,  0.9507,  1.7530,  0.4323,  0.4803,\n",
      "        -3.1376,  2.3180])\n",
      "tensor([8, 0, 1, 3, 6, 7, 2, 4, 5, 9])\n"
     ]
    }
   ],
   "source": [
    "class OscillatorDataset(Dataset):\n",
    "    \"\"\"A dataset of randomly generated trials.\n",
    "    \"\"\"\n",
    "    def __init__(self, num_neurons, num_timesteps, num_trials, seed=0):\n",
    "        self.num_neurons = num_neurons\n",
    "        self.num_timesteps = num_timesteps\n",
    "        self.num_trials = num_trials\n",
    "\n",
    "        # Sample random emission weights\n",
    "        torch.manual_seed(seed)\n",
    "        self.weights = torch.randn((num_neurons, 4))\n",
    "        self.bias = torch.randn(num_neurons)\n",
    "\n",
    "        # Permute based on read-out angle for \\theta_1\n",
    "        angle = torch.atan2(self.weights[:, 3], self.weights[:, 2])\n",
    "        print(angle.shape, self.weights.shape)\n",
    "        print(angle)\n",
    "        perm = torch.argsort(angle)\n",
    "        print(perm)\n",
    "        self.weights = self.weights[perm]\n",
    "        self.bias = self.bias[perm]\n",
    "\n",
    "        # Sample trials\n",
    "        all_trials = [sample_trial(self.weights, self.bias) for _ in range(num_trials)]\n",
    "        self.all_inputs, self.all_states, self.all_spikes = list(zip(*all_trials))\n",
    "\n",
    "    def __len__(self):\n",
    "        return self.num_trials\n",
    "\n",
    "    def __getitem__(self, idx):\n",
    "        return dict(inputs=self.all_inputs[idx],\n",
    "                    states=self.all_states[idx],\n",
    "                    spikes=self.all_spikes[idx])\n",
    "\n",
    "dataset=OscillatorDataset(10, 100, 60)"
   ]
  }
 ],
 "metadata": {
  "kernelspec": {
   "display_name": ".venv",
   "language": "python",
   "name": "python3"
  },
  "language_info": {
   "codemirror_mode": {
    "name": "ipython",
    "version": 3
   },
   "file_extension": ".py",
   "mimetype": "text/x-python",
   "name": "python",
   "nbconvert_exporter": "python",
   "pygments_lexer": "ipython3",
   "version": "3.12.3"
  }
 },
 "nbformat": 4,
 "nbformat_minor": 2
}
