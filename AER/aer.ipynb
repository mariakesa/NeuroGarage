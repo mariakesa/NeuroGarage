{
 "cells": [
  {
   "cell_type": "code",
   "execution_count": 1,
   "metadata": {},
   "outputs": [
    {
     "name": "stdout",
     "output_type": "stream",
     "text": [
      "Events on the bus (time, neuron_id):\n",
      "(0, 3)\n",
      "(1, 2)\n",
      "(2, 0)\n",
      "(2, 2)\n",
      "(3, 2)\n",
      "(6, 1)\n",
      "(8, 3)\n",
      "(14, 2)\n",
      "(15, 2)\n",
      "(17, 2)\n",
      "(19, 3)\n",
      "(23, 0)\n",
      "(25, 2)\n",
      "(26, 2)\n",
      "(28, 0)\n",
      "(29, 0)\n",
      "(30, 0)\n",
      "(32, 2)\n",
      "(33, 0)\n",
      "(34, 0)\n",
      "(36, 2)\n",
      "(38, 0)\n",
      "(38, 1)\n",
      "(39, 1)\n",
      "(41, 2)\n",
      "(43, 3)\n",
      "(46, 3)\n",
      "(48, 1)\n",
      "(49, 3)\n",
      "(52, 2)\n",
      "(59, 1)\n",
      "(59, 2)\n",
      "(60, 1)\n",
      "(67, 1)\n",
      "(69, 1)\n",
      "(71, 3)\n",
      "(72, 0)\n",
      "(75, 1)\n",
      "(91, 1)\n",
      "(93, 2)\n",
      "(95, 1)\n",
      "(96, 2)\n"
     ]
    }
   ],
   "source": [
    "import numpy as np\n",
    "import heapq\n",
    "import random\n",
    "\n",
    "# Parameters\n",
    "num_neurons = 4\n",
    "time_steps = 100\n",
    "spike_probability = 0.1\n",
    "\n",
    "# Simulate the spiking activity of each neuron over time\n",
    "spike_matrix = np.zeros((num_neurons, time_steps), dtype=int)\n",
    "for neuron in range(num_neurons):\n",
    "    for t in range(time_steps):\n",
    "        if random.random() < spike_probability:\n",
    "            spike_matrix[neuron, t] = 1  # Indicate a spike\n",
    "\n",
    "# Encoder with priority queue\n",
    "# Priority queue to store events: (timestamp, neuron_id)\n",
    "event_queue = []\n",
    "\n",
    "# Encode spikes and add to priority queue\n",
    "for t in range(time_steps):\n",
    "    for neuron in range(num_neurons):\n",
    "        if spike_matrix[neuron, t] == 1:\n",
    "            # Add event to queue with priority (timestamp) and neuron id (address)\n",
    "            heapq.heappush(event_queue, (t, neuron))\n",
    "\n",
    "# Represent events on the bus by printing them sequentially\n",
    "print(\"Events on the bus (time, neuron_id):\")\n",
    "while event_queue:\n",
    "    event = heapq.heappop(event_queue)\n",
    "    print(event)  # Each event is a tuple (time, neuron_id)\n"
   ]
  }
 ],
 "metadata": {
  "kernelspec": {
   "display_name": ".venv",
   "language": "python",
   "name": "python3"
  },
  "language_info": {
   "codemirror_mode": {
    "name": "ipython",
    "version": 3
   },
   "file_extension": ".py",
   "mimetype": "text/x-python",
   "name": "python",
   "nbconvert_exporter": "python",
   "pygments_lexer": "ipython3",
   "version": "3.10.15"
  }
 },
 "nbformat": 4,
 "nbformat_minor": 2
}
