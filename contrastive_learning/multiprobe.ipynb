{
 "cells": [
  {
   "cell_type": "code",
   "execution_count": null,
   "metadata": {},
   "outputs": [],
   "source": [
    "import os\n",
    "\n",
    "import numpy as np\n",
    "import pandas as pd\n",
    "\n",
    "import matplotlib.pyplot as plt\n",
    "%matplotlib inline\n",
    "\n",
    "from allensdk.brain_observatory.ecephys.ecephys_project_cache import EcephysProjectCache\n",
    "\n",
    "output_dir = '/home/maria/AllenData'\n",
    "manifest_path = os.path.join(output_dir, \"manifest.json\")\n",
    "\n",
    "cache = EcephysProjectCache.from_warehouse(manifest=manifest_path)\n",
    "session=cache.get_session_data(831882777)\n",
    "lfp = session.get_lfp(832810578)\n",
    "session.spike_times"
   ]
  },
  {
   "cell_type": "code",
   "execution_count": 1,
   "metadata": {},
   "outputs": [
    {
     "name": "stderr",
     "output_type": "stream",
     "text": [
      "/home/maria/NeuroGarage/.venv/lib/python3.10/site-packages/tqdm/auto.py:21: TqdmWarning: IProgress not found. Please update jupyter and ipywidgets. See https://ipywidgets.readthedocs.io/en/stable/user_install.html\n",
      "  from .autonotebook import tqdm as notebook_tqdm\n",
      "/home/maria/NeuroGarage/.venv/lib/python3.10/site-packages/huggingface_hub/file_download.py:1150: FutureWarning: `resume_download` is deprecated and will be removed in version 1.0.0. Downloads always resume when possible. If you want to force a new download, use `force_download=True`.\n",
      "  warnings.warn(\n",
      "Some weights of ViTModel were not initialized from the model checkpoint at google/vit-base-patch16-224 and are newly initialized: ['vit.pooler.dense.weight', 'vit.pooler.dense.bias']\n",
      "You should probably TRAIN this model on a down-stream task to be able to use it for predictions and inference.\n"
     ]
    },
    {
     "data": {
      "text/plain": [
       "[1, 197, 768]"
      ]
     },
     "execution_count": 1,
     "metadata": {},
     "output_type": "execute_result"
    }
   ],
   "source": [
    "from transformers import AutoImageProcessor, ViTModel\n",
    "\n",
    "import torch\n",
    "\n",
    "from datasets import load_dataset\n",
    "\n",
    "dataset = load_dataset(\"huggingface/cats-image\", trust_remote_code=True)\n",
    "\n",
    "image = dataset[\"test\"][\"image\"][0]\n",
    "\n",
    "image_processor = AutoImageProcessor.from_pretrained('google/vit-base-patch16-224')\n",
    "\n",
    "model = ViTModel.from_pretrained('google/vit-base-patch16-224')\n",
    "\n",
    "inputs = image_processor(image, return_tensors=\"pt\")\n",
    "\n",
    "with torch.no_grad():\n",
    "\n",
    "    outputs = model(**inputs)\n",
    "\n",
    "last_hidden_states = outputs.last_hidden_state\n",
    "\n",
    "list(last_hidden_states.shape)"
   ]
  },
  {
   "cell_type": "code",
   "execution_count": 2,
   "metadata": {},
   "outputs": [
    {
     "name": "stdout",
     "output_type": "stream",
     "text": [
      "Model size: 329.55 MB\n"
     ]
    }
   ],
   "source": [
    "# Calculate the size in bytes\n",
    "model_size_bytes = sum(p.numel() * p.element_size() for p in model.parameters())\n",
    "\n",
    "# Convert to megabytes\n",
    "model_size_mb = model_size_bytes / (1024 ** 2)\n",
    "print(f\"Model size: {model_size_mb:.2f} MB\")"
   ]
  },
  {
   "cell_type": "code",
   "execution_count": 4,
   "metadata": {},
   "outputs": [
    {
     "data": {
      "text/plain": [
       "====================================================================================================\n",
       "Layer (type:depth-idx)                             Output Shape              Param #\n",
       "====================================================================================================\n",
       "ViTModel                                           [1, 768]                  --\n",
       "├─ViTEmbeddings: 1-1                               [1, 197, 768]             152,064\n",
       "│    └─ViTPatchEmbeddings: 2-1                     [1, 196, 768]             --\n",
       "│    │    └─Conv2d: 3-1                            [1, 768, 14, 14]          590,592\n",
       "│    └─Dropout: 2-2                                [1, 197, 768]             --\n",
       "├─ViTEncoder: 1-2                                  [1, 197, 768]             --\n",
       "│    └─ModuleList: 2-3                             --                        --\n",
       "│    │    └─ViTLayer: 3-2                          [1, 197, 768]             7,087,872\n",
       "│    │    └─ViTLayer: 3-3                          [1, 197, 768]             7,087,872\n",
       "│    │    └─ViTLayer: 3-4                          [1, 197, 768]             7,087,872\n",
       "│    │    └─ViTLayer: 3-5                          [1, 197, 768]             7,087,872\n",
       "│    │    └─ViTLayer: 3-6                          [1, 197, 768]             7,087,872\n",
       "│    │    └─ViTLayer: 3-7                          [1, 197, 768]             7,087,872\n",
       "│    │    └─ViTLayer: 3-8                          [1, 197, 768]             7,087,872\n",
       "│    │    └─ViTLayer: 3-9                          [1, 197, 768]             7,087,872\n",
       "│    │    └─ViTLayer: 3-10                         [1, 197, 768]             7,087,872\n",
       "│    │    └─ViTLayer: 3-11                         [1, 197, 768]             7,087,872\n",
       "│    │    └─ViTLayer: 3-12                         [1, 197, 768]             7,087,872\n",
       "│    │    └─ViTLayer: 3-13                         [1, 197, 768]             7,087,872\n",
       "├─LayerNorm: 1-3                                   [1, 197, 768]             1,536\n",
       "├─ViTPooler: 1-4                                   [1, 768]                  --\n",
       "│    └─Linear: 2-4                                 [1, 768]                  590,592\n",
       "│    └─Tanh: 2-5                                   [1, 768]                  --\n",
       "====================================================================================================\n",
       "Total params: 86,389,248\n",
       "Trainable params: 86,389,248\n",
       "Non-trainable params: 0\n",
       "Total mult-adds (M): 201.40\n",
       "====================================================================================================\n",
       "Input size (MB): 0.60\n",
       "Forward/backward pass size (MB): 162.19\n",
       "Params size (MB): 344.95\n",
       "Estimated Total Size (MB): 507.74\n",
       "===================================================================================================="
      ]
     },
     "execution_count": 4,
     "metadata": {},
     "output_type": "execute_result"
    }
   ],
   "source": [
    "from torchinfo import summary\n",
    "\n",
    "# Move the model to CPU (or GPU if available)\n",
    "device = torch.device(\"cuda\" if torch.cuda.is_available() else \"cpu\")\n",
    "model.to(device)\n",
    "\n",
    "# Print the summary\n",
    "summary(model, input_size=(1, 3, 224, 224))"
   ]
  }
 ],
 "metadata": {
  "kernelspec": {
   "display_name": ".venv",
   "language": "python",
   "name": "python3"
  },
  "language_info": {
   "codemirror_mode": {
    "name": "ipython",
    "version": 3
   },
   "file_extension": ".py",
   "mimetype": "text/x-python",
   "name": "python",
   "nbconvert_exporter": "python",
   "pygments_lexer": "ipython3",
   "version": "3.10.14"
  }
 },
 "nbformat": 4,
 "nbformat_minor": 2
}
