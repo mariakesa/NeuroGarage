{
 "cells": [
  {
   "cell_type": "code",
   "execution_count": 1,
   "metadata": {},
   "outputs": [
    {
     "name": "stdout",
     "output_type": "stream",
     "text": [
      "E[X] = mu\n",
      "E[X^2] = mu**2 + 1.0*sigma**2\n",
      "E[X^3] = mu*(mu**2 + 3.0*sigma**2)\n",
      "E[X^4] = mu**4 + 6.0*mu**2*sigma**2 + 3.0*sigma**4\n"
     ]
    }
   ],
   "source": [
    "import sympy as sp\n",
    "\n",
    "# Define the variables\n",
    "t, mu, sigma = sp.symbols('t mu sigma')\n",
    "\n",
    "# Define the MGF of a normal distribution\n",
    "MGF = sp.exp(t*mu + 0.5 * sigma**2 * t**2)\n",
    "\n",
    "# Compute the derivatives\n",
    "first_derivative = sp.diff(MGF, t)\n",
    "second_derivative = sp.diff(MGF, t, 2)\n",
    "third_derivative = sp.diff(MGF, t, 3)\n",
    "fourth_derivative = sp.diff(MGF, t, 4)\n",
    "\n",
    "# Evaluate the derivatives at t = 0\n",
    "E_X = first_derivative.subs(t, 0)\n",
    "E_X2 = second_derivative.subs(t, 0)\n",
    "E_X3 = third_derivative.subs(t, 0)\n",
    "E_X4 = fourth_derivative.subs(t, 0)\n",
    "\n",
    "# Display the results\n",
    "print(f\"E[X] = {E_X}\")\n",
    "print(f\"E[X^2] = {E_X2}\")\n",
    "print(f\"E[X^3] = {E_X3}\")\n",
    "print(f\"E[X^4] = {E_X4}\")"
   ]
  },
  {
   "cell_type": "code",
   "execution_count": 2,
   "metadata": {},
   "outputs": [
    {
     "name": "stdout",
     "output_type": "stream",
     "text": [
      "Var(X^2) = 2*sigma**2*(2*mu**2 + sigma**2)\n"
     ]
    }
   ],
   "source": [
    "import sympy as sp\n",
    "\n",
    "# Define the variables\n",
    "mu, sigma = sp.symbols('mu sigma')\n",
    "\n",
    "# E[X^2] = mu^2 + sigma^2\n",
    "E_X2 = mu**2 + sigma**2\n",
    "\n",
    "# E[X^4] = mu^4 + 6*mu^2*sigma^2 + 3*sigma^4\n",
    "E_X4 = mu**4 + 6*mu**2*sigma**2 + 3*sigma**4\n",
    "\n",
    "# Calculate Var(X^2)\n",
    "Var_X2 = E_X4 - E_X2**2\n",
    "\n",
    "# Simplify and display the result\n",
    "Var_X2_simplified = sp.simplify(Var_X2)\n",
    "print(f\"Var(X^2) = {Var_X2_simplified}\")\n"
   ]
  }
 ],
 "metadata": {
  "kernelspec": {
   "display_name": ".venv",
   "language": "python",
   "name": "python3"
  },
  "language_info": {
   "codemirror_mode": {
    "name": "ipython",
    "version": 3
   },
   "file_extension": ".py",
   "mimetype": "text/x-python",
   "name": "python",
   "nbconvert_exporter": "python",
   "pygments_lexer": "ipython3",
   "version": "3.10.14"
  }
 },
 "nbformat": 4,
 "nbformat_minor": 2
}
