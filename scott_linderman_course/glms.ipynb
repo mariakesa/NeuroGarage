{
 "cells": [
  {
   "cell_type": "code",
   "execution_count": 5,
   "metadata": {},
   "outputs": [
    {
     "name": "stdout",
     "output_type": "stream",
     "text": [
      "Log-Likelihood: -8.004968030648634\n",
      "Derivative w.r.t a: 1.2299221175525399\n",
      "Derivative w.r.t b: 6542.221976037999\n"
     ]
    }
   ],
   "source": [
    "import numpy as np\n",
    "\n",
    "def logistic_log_likelihood_and_derivatives(x, y, a, b):\n",
    "    \"\"\"\n",
    "    Computes the log-likelihood of the data under the logistic model\n",
    "    and its derivatives with respect to parameters a and b.\n",
    "\n",
    "    Parameters:\n",
    "    ----------\n",
    "    x : list or array-like\n",
    "        List or array of input features.\n",
    "    y : list or array-like\n",
    "        List or array of binary outcomes (0 or 1).\n",
    "    a : float\n",
    "        Parameter a (intercept).\n",
    "    b : float\n",
    "        Parameter b (coefficient for x).\n",
    "\n",
    "    Returns:\n",
    "    -------\n",
    "    log_likelihood : float\n",
    "        The log-likelihood of the data.\n",
    "    dL_da : float\n",
    "        The derivative of the log-likelihood with respect to a.\n",
    "    dL_db : float\n",
    "        The derivative of the log-likelihood with respect to b.\n",
    "    \"\"\"\n",
    "    # Convert inputs to numpy arrays for vectorized operations\n",
    "    x = np.array(x)\n",
    "    y = np.array(y)\n",
    "\n",
    "    # Compute the linear combination (eta)\n",
    "    eta = a + b * x\n",
    "\n",
    "    # Compute the log-likelihood using the numerically stable formulation\n",
    "    # log_likelihood = sum(y_i * eta_i - log(1 + exp(eta_i)))\n",
    "    # Handle large positive and negative eta to prevent overflow\n",
    "    # For eta > 0: log(1 + exp(eta)) = eta + log(1 + exp(-eta))\n",
    "    # For eta <= 0: log(1 + exp(eta)) = log(1 + exp(eta))\n",
    "    log_likelihood = 0.0\n",
    "    for i in range(len(x)):\n",
    "        if eta[i] > 0:\n",
    "            log_likelihood += y[i] * eta[i] - (eta[i] + np.log(1 + np.exp(-eta[i])))\n",
    "        else:\n",
    "            log_likelihood += y[i] * eta[i] - np.log(1 + np.exp(eta[i]))\n",
    "\n",
    "    # Compute the probabilities p_i\n",
    "    # To compute derivatives, we need p_i = e^(eta_i) / (1 + e^(eta_i))\n",
    "    # which is equivalent to sigmoid(eta_i)\n",
    "    p = 1 / (1 + np.exp(-eta))\n",
    "\n",
    "    # Compute the derivatives of the log-likelihood\n",
    "    # dL/da = sum(y_i - p_i)\n",
    "    # dL/db = sum((y_i - p_i) * x_i)\n",
    "    dL_da = np.sum(y - p)\n",
    "    dL_db = np.sum((y - p) * x)\n",
    "\n",
    "    return log_likelihood, dL_da, dL_db\n",
    "\n",
    "\n",
    "x_data = [-100, 2000, 2000, 5000]\n",
    "y_data = [0, 0, 1, 1]\n",
    "\n",
    "# Choose parameters a and b\n",
    "# Given the large x values, select b such that a + b*x_i is within a manageable range\n",
    "# For example, let a = 0 and b = -0.001\n",
    "a = 0.0\n",
    "b = -0.001\n",
    "\n",
    "# Compute log-likelihood and derivatives\n",
    "log_likelihood, dL_da, dL_db = logistic_log_likelihood_and_derivatives(x_data, y_data, a, b)\n",
    "\n",
    "# Display the results\n",
    "print(\"Log-Likelihood:\", log_likelihood)\n",
    "print(\"Derivative w.r.t a:\", dL_da)\n",
    "print(\"Derivative w.r.t b:\", dL_db)\n"
   ]
  },
  {
   "cell_type": "code",
   "execution_count": 7,
   "metadata": {},
   "outputs": [
    {
     "data": {
      "text/plain": [
       "0.8040812045010804"
      ]
     },
     "execution_count": 7,
     "metadata": {},
     "output_type": "execute_result"
    }
   ],
   "source": [
    "import numpy as np\n",
    "np.e**(0.012+4000*0.00035)/(1+np.e**(0.012+4000*0.00035))"
   ]
  },
  {
   "cell_type": "code",
   "execution_count": null,
   "metadata": {},
   "outputs": [],
   "source": [
    "X=[0,1]\n",
    "Y=[0,1]\n",
    "\n",
    "logistic= lambda x: 1/(1+np.e**(-x))\n",
    "\n",
    "for x in X:\n",
    "    print(X*logistic())"
   ]
  },
  {
   "cell_type": "code",
   "execution_count": 8,
   "metadata": {},
   "outputs": [
    {
     "name": "stderr",
     "output_type": "stream",
     "text": [
      "/tmp/ipykernel_169609/2933082444.py:1: RuntimeWarning: divide by zero encountered in log\n",
      "  np.log(0)\n"
     ]
    },
    {
     "data": {
      "text/plain": [
       "-inf"
      ]
     },
     "execution_count": 8,
     "metadata": {},
     "output_type": "execute_result"
    }
   ],
   "source": [
    "np.log(0)"
   ]
  }
 ],
 "metadata": {
  "kernelspec": {
   "display_name": ".venv",
   "language": "python",
   "name": "python3"
  },
  "language_info": {
   "codemirror_mode": {
    "name": "ipython",
    "version": 3
   },
   "file_extension": ".py",
   "mimetype": "text/x-python",
   "name": "python",
   "nbconvert_exporter": "python",
   "pygments_lexer": "ipython3",
   "version": "3.10.14"
  }
 },
 "nbformat": 4,
 "nbformat_minor": 2
}
