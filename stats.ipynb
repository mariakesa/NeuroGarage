{
 "cells": [
  {
   "cell_type": "code",
   "execution_count": 5,
   "metadata": {},
   "outputs": [
    {
     "name": "stdout",
     "output_type": "stream",
     "text": [
      "KL Divergence D_KL(N(mu, sigma^2) || N(theta, sigma^2)) =\n"
     ]
    },
    {
     "data": {
      "text/latex": [
       "$\\displaystyle \\frac{\\left(\\mu - \\theta\\right)^{2}}{2 \\sigma^{2}}$"
      ],
      "text/plain": [
       "(mu - theta)**2/(2*sigma**2)"
      ]
     },
     "execution_count": 5,
     "metadata": {},
     "output_type": "execute_result"
    }
   ],
   "source": [
    "import sympy as sp\n",
    "\n",
    "# Define symbolic variables\n",
    "x, mu, theta, sigma = sp.symbols('x mu theta sigma', real=True, positive=True)\n",
    "\n",
    "# Define the probability density functions for P ~ N(mu, sigma^2) and Q ~ N(theta, sigma^2)\n",
    "p = (1 / (sp.sqrt(2 * sp.pi) * sigma)) * sp.exp(-((x - mu)**2) / (2 * sigma**2))\n",
    "q = (1 / (sp.sqrt(2 * sp.pi) * sigma)) * sp.exp(-((x - theta)**2) / (2 * sigma**2))\n",
    "\n",
    "# Compute the logarithm of the ratio p/q\n",
    "log_ratio = sp.log(p / q)\n",
    "\n",
    "# Simplify the log ratio\n",
    "log_ratio_simplified = sp.simplify(log_ratio)\n",
    "# log_ratio_simplified should simplify to ((theta - mu)*(2*x - mu - theta))/(2*sigma**2)\n",
    "# However, it's easier to expand and simplify step by step\n",
    "\n",
    "# Let's compute p * log(p/q)\n",
    "kl_integrand = p * log_ratio\n",
    "\n",
    "# Expand the log_ratio\n",
    "log_p = -sp.log(sp.sqrt(2 * sp.pi) * sigma) - ((x - mu)**2) / (2 * sigma**2)\n",
    "log_q = -sp.log(sp.sqrt(2 * sp.pi) * sigma) - ((x - theta)**2) / (2 * sigma**2)\n",
    "log_p_over_q = log_p - log_q\n",
    "\n",
    "# Now, kl_integrand = p * (log_p - log_q)\n",
    "kl_integrand = p * (log_p_over_q)\n",
    "\n",
    "# Simplify log_p_over_q\n",
    "log_p_over_q = (-((x - mu)**2) / (2 * sigma**2)) - (-((x - theta)**2) / (2 * sigma**2))\n",
    "log_p_over_q = ((x - theta)**2 - (x - mu)**2) / (2 * sigma**2)\n",
    "# Expand the squares\n",
    "log_p_over_q = ((x**2 - 2*x*theta + theta**2) - (x**2 - 2*x*mu + mu**2)) / (2 * sigma**2)\n",
    "log_p_over_q = (-2*x*theta + theta**2 + 2*x*mu - mu**2) / (2 * sigma**2)\n",
    "log_p_over_q = (2*x*(mu - theta) + (theta**2 - mu**2)) / (2 * sigma**2)\n",
    "log_p_over_q = (x*(mu - theta) + (theta**2 - mu**2)/2) / sigma**2\n",
    "\n",
    "# So kl_integrand = p * (x*(mu - theta) + (theta**2 - mu**2)/2) / sigma**2\n",
    "\n",
    "# Now, integrate kl_integrand over x from -infty to +infty\n",
    "# Due to linearity, split the integral\n",
    "# D_KL = (mu - theta)/sigma**2 * ∫x p(x) dx + (theta**2 - mu**2)/(2*sigma**2) * ∫p(x) dx\n",
    "\n",
    "# We know that ∫x p(x) dx = mu and ∫p(x) dx = 1\n",
    "\n",
    "D_KL = (mu - theta)/sigma**2 * mu + (theta**2 - mu**2)/(2*sigma**2) * 1\n",
    "\n",
    "# Simplify the expression\n",
    "D_KL = (mu**2 - mu*theta) / sigma**2 + (theta**2 - mu**2) / (2 * sigma**2)\n",
    "D_KL = (2*(mu**2 - mu*theta) + theta**2 - mu**2) / (2 * sigma**2)\n",
    "D_KL = (mu**2 - 2*mu*theta + theta**2) / (2 * sigma**2)\n",
    "D_KL = (mu - theta)**2 / (2 * sigma**2)\n",
    "\n",
    "# Display the result\n",
    "print(\"KL Divergence D_KL(N(mu, sigma^2) || N(theta, sigma^2)) =\")\n",
    "sp.simplify(D_KL)\n"
   ]
  },
  {
   "cell_type": "code",
   "execution_count": 1,
   "metadata": {},
   "outputs": [
    {
     "data": {
      "text/latex": [
       "$\\displaystyle \\begin{cases} \\log{\\left(\\frac{\\lambda_{}}{\\mu} \\right)} - 1 + \\frac{\\mu}{\\lambda_{}} & \\text{for}\\: \\left|{\\arg{\\left(\\lambda_{} \\right)}}\\right| < \\frac{\\pi}{2} \\\\\\lambda_{} \\int\\limits_{0}^{\\infty} \\left(- x \\left(\\lambda_{} - \\mu\\right) + \\log{\\left(\\frac{\\lambda_{}}{\\mu} \\right)}\\right) e^{- \\lambda_{} x}\\, dx & \\text{otherwise} \\end{cases}$"
      ],
      "text/plain": [
       "Piecewise((log(lambda_/mu) - 1 + mu/lambda_, Abs(arg(lambda_)) < pi/2), (lambda_*Integral((-x*(lambda_ - mu) + log(lambda_/mu))*exp(-lambda_*x), (x, 0, oo)), True))"
      ]
     },
     "execution_count": 1,
     "metadata": {},
     "output_type": "execute_result"
    }
   ],
   "source": [
    "import sympy as sp\n",
    "\n",
    "# Define the symbolic variables\n",
    "lambda_, mu, x = sp.symbols('lambda_ mu x')\n",
    "\n",
    "# Define the exponential distribution terms\n",
    "p_x = lambda_ * sp.exp(-lambda_ * x)  # PDF of Exp(lambda)\n",
    "q_x = mu * sp.exp(-mu * x)            # PDF of Exp(mu)\n",
    "\n",
    "# Define the log term\n",
    "log_term = sp.log(lambda_ / mu) + (mu - lambda_) * x\n",
    "\n",
    "# Integrate the KL divergence\n",
    "kl_integral = sp.integrate(p_x * log_term, (x, 0, sp.oo))\n",
    "\n",
    "# Simplify the result\n",
    "kl_divergence_simplified = sp.simplify(kl_integral)\n",
    "\n",
    "# Display the result\n",
    "kl_divergence_simplified\n"
   ]
  },
  {
   "cell_type": "code",
   "execution_count": 7,
   "metadata": {},
   "outputs": [
    {
     "data": {
      "text/plain": [
       "0.2267786838055364"
      ]
     },
     "execution_count": 7,
     "metadata": {},
     "output_type": "execute_result"
    }
   ],
   "source": [
    "import numpy as np\n",
    "n=7\n",
    "one=[-1.0,-0.8, -2.9, 1.4, 0.3, -0.8, 1.4]\n",
    "np.abs(np.mean(one))*np.sqrt(n)\n",
    "two=[-1.7, -0.1, -0.2, 0.3, 0.3, -0.9, -0.02]\n",
    "np.abs(np.mean(two))*np.sqrt(n)\n",
    "three=[-0.2,0.6,1.1,-0.9,0.1,-1.2,1.1]\n",
    "np.abs(np.mean(three))*np.sqrt(n)"
   ]
  },
  {
   "cell_type": "code",
   "execution_count": 15,
   "metadata": {},
   "outputs": [
    {
     "data": {
      "text/latex": [
       "$\\displaystyle 8.51719319141624$"
      ],
      "text/plain": [
       "8.51719319141624"
      ]
     },
     "execution_count": 15,
     "metadata": {},
     "output_type": "execute_result"
    }
   ],
   "source": [
    "import sympy as sp\n",
    "\n",
    "# Define the variable and limits\n",
    "theta = sp.Symbol('theta', real=True, positive=True)\n",
    "t = sp.Symbol('t', real=True, positive=True)\n",
    "\n",
    "# Define the integral\n",
    "integral = sp.integrate(1/t, (t, 0.0001, 1/2))\n",
    "\n",
    "integral"
   ]
  },
  {
   "cell_type": "code",
   "execution_count": 17,
   "metadata": {},
   "outputs": [
    {
     "data": {
      "text/plain": [
       "33.833333333333336"
      ]
     },
     "execution_count": 17,
     "metadata": {},
     "output_type": "execute_result"
    }
   ],
   "source": [
    "(0.2*13*125+81)/12"
   ]
  },
  {
   "cell_type": "code",
   "execution_count": 1,
   "metadata": {},
   "outputs": [
    {
     "data": {
      "text/plain": [
       "200.0"
      ]
     },
     "execution_count": 1,
     "metadata": {},
     "output_type": "execute_result"
    }
   ],
   "source": [
    "b180/0.9"
   ]
  },
  {
   "cell_type": "code",
   "execution_count": 2,
   "metadata": {},
   "outputs": [
    {
     "data": {
      "text/plain": [
       "4.0"
      ]
     },
     "execution_count": 2,
     "metadata": {},
     "output_type": "execute_result"
    }
   ],
   "source": [
    "5*0.8\n"
   ]
  },
  {
   "cell_type": "code",
   "execution_count": 3,
   "metadata": {},
   "outputs": [
    {
     "data": {
      "text/plain": [
       "125.0"
      ]
     },
     "execution_count": 3,
     "metadata": {},
     "output_type": "execute_result"
    }
   ],
   "source": [
    "5000/40"
   ]
  },
  {
   "cell_type": "code",
   "execution_count": 4,
   "metadata": {},
   "outputs": [
    {
     "data": {
      "text/plain": [
       "-9000"
      ]
     },
     "execution_count": 4,
     "metadata": {},
     "output_type": "execute_result"
    }
   ],
   "source": [
    "-125*40-4000"
   ]
  },
  {
   "cell_type": "code",
   "execution_count": 12,
   "metadata": {},
   "outputs": [
    {
     "name": "stdout",
     "output_type": "stream",
     "text": [
      "Two-tailed p-value: 0.0008\n",
      "One-tailed p-value: 0.0004\n"
     ]
    }
   ],
   "source": [
    "from scipy import stats\n",
    "import numpy as np\n",
    "# Given test statistic\n",
    "z_statistic = (0.5-0.645)/(np.sqrt(0.654*(1-0.645))/np.sqrt(124))\n",
    "\n",
    "# Compute the p-value for a two-tailed test\n",
    "p_value_two_tailed = 2 * (1 - stats.norm.cdf(abs(z_statistic)))\n",
    "\n",
    "# Compute the p-value for a one-tailed test\n",
    "p_value_one_tailed = 1 - stats.norm.cdf(abs(z_statistic))\n",
    "\n",
    "print(f\"Two-tailed p-value: {p_value_two_tailed:.4f}\")\n",
    "print(f\"One-tailed p-value: {p_value_one_tailed:.4f}\")"
   ]
  },
  {
   "cell_type": "code",
   "execution_count": 13,
   "metadata": {},
   "outputs": [
    {
     "data": {
      "text/plain": [
       "-0.8424962907930215"
      ]
     },
     "execution_count": 13,
     "metadata": {},
     "output_type": "execute_result"
    }
   ],
   "source": [
    "lambd=1/1.13\n",
    "\n",
    "import math\n",
    "\n",
    "(math.sqrt(42)/lambd)*(lambd-1)"
   ]
  },
  {
   "cell_type": "code",
   "execution_count": 34,
   "metadata": {},
   "outputs": [
    {
     "name": "stdout",
     "output_type": "stream",
     "text": [
      "Two-tailed p-value: 0.0815\n",
      "One-tailed p-value: 0.0407\n"
     ]
    }
   ],
   "source": [
    "from scipy import stats\n",
    "import numpy as np\n",
    "# Given test statistic\n",
    "z_statistic = np.sqrt(1000)*np.abs((257-260)/np.sqrt(38**2+39**2))\n",
    "# Compute the p-value for a two-tailed test\n",
    "p_value_two_tailed = 2 * (1 - stats.norm.cdf(abs(z_statistic)))\n",
    "\n",
    "# Compute the p-value for a one-tailed test\n",
    "p_value_one_tailed = 1 - stats.norm.cdf(abs(z_statistic))\n",
    "\n",
    "print(f\"Two-tailed p-value: {p_value_two_tailed:.4f}\")\n",
    "print(f\"One-tailed p-value: {p_value_one_tailed:.4f}\")"
   ]
  },
  {
   "cell_type": "code",
   "execution_count": 15,
   "metadata": {},
   "outputs": [
    {
     "data": {
      "text/plain": [
       "0.9685401680508671"
      ]
     },
     "execution_count": 15,
     "metadata": {},
     "output_type": "execute_result"
    }
   ],
   "source": [
    "1/(np.log(0.362))**2"
   ]
  },
  {
   "cell_type": "code",
   "execution_count": 19,
   "metadata": {},
   "outputs": [
    {
     "data": {
      "text/plain": [
       "0.9750021048517795"
      ]
     },
     "execution_count": 19,
     "metadata": {},
     "output_type": "execute_result"
    }
   ],
   "source": [
    "stats.norm.cdf(1.96)"
   ]
  },
  {
   "cell_type": "code",
   "execution_count": 27,
   "metadata": {},
   "outputs": [
    {
     "data": {
      "text/plain": [
       "-0.639963984540054"
      ]
     },
     "execution_count": 27,
     "metadata": {},
     "output_type": "execute_result"
    }
   ],
   "source": [
    "from scipy.stats import norm\n",
    "\n",
    "alpha = 0.05\n",
    "quantile = norm.ppf()\n",
    "\n",
    "quantile\n",
    "\n",
    "1.32-1.959963984540054"
   ]
  },
  {
   "cell_type": "code",
   "execution_count": 5,
   "metadata": {},
   "outputs": [
    {
     "name": "stdout",
     "output_type": "stream",
     "text": [
      "0.25\n"
     ]
    }
   ],
   "source": [
    "import numpy as np\n",
    "a=[1/3,1/3,1/3]\n",
    "a=[1/4,1/4,1/4,1/4]\n",
    "print(np.sum([i**2 for i in a]))"
   ]
  },
  {
   "cell_type": "code",
   "execution_count": 7,
   "metadata": {},
   "outputs": [
    {
     "data": {
      "text/plain": [
       "17.999999999999996"
      ]
     },
     "execution_count": 7,
     "metadata": {},
     "output_type": "execute_result"
    }
   ],
   "source": [
    "dat=[1,3,1,2,2,2,1,1,3,1,1,2]\n",
    "dat=[i/len(dat) for i in dat]\n",
    "\n",
    "test_statistic = len(dat)*np.sum([(i-1/3)**2/(1/3) for i in dat])\n",
    "test_statistic"
   ]
  },
  {
   "cell_type": "code",
   "execution_count": 9,
   "metadata": {},
   "outputs": [
    {
     "name": "stdout",
     "output_type": "stream",
     "text": [
      "Chi-squared test statistic: 2.0\n",
      "P-value: 0.36787944117144233\n"
     ]
    }
   ],
   "source": [
    "import numpy as np\n",
    "from scipy.stats import chi2\n",
    "\n",
    "# Original data\n",
    "dat = [1, 3, 1, 2, 2, 2, 1, 1, 3, 1, 1, 2]\n",
    "\n",
    "# Observed counts for each category (1, 2, 3)\n",
    "observed_counts = [dat.count(1), dat.count(2), dat.count(3)]\n",
    "total_count = len(dat)\n",
    "\n",
    "# Expected counts (assuming equal probability for each category)\n",
    "expected_count = total_count / 3\n",
    "\n",
    "# Chi-squared test statistic\n",
    "test_statistic = sum((obs - expected_count)**2 / expected_count for obs in observed_counts)\n",
    "\n",
    "# Degrees of freedom (K-1, where K is the number of categories)\n",
    "degrees_of_freedom = len(observed_counts) - 1\n",
    "\n",
    "# P-value for the chi-squared test\n",
    "p_value = 1 - chi2.cdf(test_statistic, degrees_of_freedom)\n",
    "\n",
    "print(\"Chi-squared test statistic:\", test_statistic)\n",
    "print(\"P-value:\", p_value)\n"
   ]
  },
  {
   "cell_type": "code",
   "execution_count": 21,
   "metadata": {},
   "outputs": [
    {
     "name": "stdout",
     "output_type": "stream",
     "text": [
      "Chi-squared critical value at 5% significance level: 5.991464547107979\n"
     ]
    }
   ],
   "source": [
    "from scipy.stats import chi2\n",
    "\n",
    "# Degrees of freedom and significance level\n",
    "degrees_of_freedom = 2\n",
    "alpha = 0.05\n",
    "\n",
    "# Calculate the critical value for the 95th percentile\n",
    "critical_value = chi2.ppf(1 - alpha, degrees_of_freedom)\n",
    "\n",
    "print(\"Chi-squared critical value at 5% significance level:\", critical_value)\n"
   ]
  },
  {
   "cell_type": "code",
   "execution_count": 12,
   "metadata": {},
   "outputs": [
    {
     "name": "stdout",
     "output_type": "stream",
     "text": [
      "Chi-squared test statistic: 7.75\n",
      "P-value: 0.17056249096296938\n"
     ]
    }
   ],
   "source": [
    "dat=[5,6,1,6,4,1,2,4,6,6,1,6,6,3,5]\n",
    "observed_counts = [dat.count(i) for i in range(1, 7)]\n",
    "expected_count = total_count / 3\n",
    "\n",
    "# Chi-squared test statistic\n",
    "test_statistic = sum((obs - expected_count)**2 / expected_count for obs in observed_counts)\n",
    "test_statistic\n",
    "\n",
    "# Degrees of freedom (K-1, where K is the number of categories)\n",
    "degrees_of_freedom = len(observed_counts) - 1\n",
    "\n",
    "# P-value for the chi-squared test\n",
    "p_value = 1 - chi2.cdf(test_statistic, degrees_of_freedom)\n",
    "\n",
    "print(\"Chi-squared test statistic:\", test_statistic)\n",
    "print(\"P-value:\", p_value)\n",
    "\n"
   ]
  },
  {
   "cell_type": "code",
   "execution_count": 19,
   "metadata": {},
   "outputs": [
    {
     "name": "stdout",
     "output_type": "stream",
     "text": [
      "Chi-squared test statistic: 12.5\n",
      "P-value: 0.0019304541362277217\n"
     ]
    }
   ],
   "source": [
    "from scipy.stats import chi2\n",
    "\n",
    "# Proportions and total count\n",
    "observed_proportions = [20/100, 30/100, 50/100]\n",
    "expected_proportions = [1/10, 4/10, 5/10]\n",
    "total_count = 100\n",
    "\n",
    "# Convert proportions to counts\n",
    "observed_counts = [obs * total_count for obs in observed_proportions]\n",
    "expected_counts = [exp * total_count for exp in expected_proportions]\n",
    "\n",
    "# Chi-squared test statistic\n",
    "test_statistic = sum((obs - exp)**2 / exp for obs, exp in zip(observed_counts, expected_counts))\n",
    "\n",
    "# Degrees of freedom (K-1, where K is the number of categories)\n",
    "degrees_of_freedom = len(observed_counts) - 1\n",
    "\n",
    "# P-value for the chi-squared test\n",
    "p_value = 1 - chi2.cdf(test_statistic, degrees_of_freedom)\n",
    "\n",
    "print(\"Chi-squared test statistic:\", test_statistic)\n",
    "print(\"P-value:\", p_value)\n"
   ]
  },
  {
   "cell_type": "code",
   "execution_count": 29,
   "metadata": {},
   "outputs": [
    {
     "name": "stdout",
     "output_type": "stream",
     "text": [
      "0.3333333333333333\n",
      "1000\n",
      "Chi-squared test statistic: 17.716624999999958\n",
      "P-value: 0.00014219481556709823\n"
     ]
    },
    {
     "name": "stderr",
     "output_type": "stream",
     "text": [
      "/tmp/ipykernel_4773/1008954906.py:19: DeprecationWarning: `np.math` is a deprecated alias for the standard library `math` module (Deprecated Numpy 1.25). Replace usages of `np.math` with `math`\n",
      "  expected_counts = [total_count * (np.math.comb(n, k) * MLE**k * (1 - MLE)**(n - k)) for k in range(4)]\n"
     ]
    }
   ],
   "source": [
    "dat=[339,455,180,26]\n",
    "MLE=(1/1000*3)*np.sum(dat)\n",
    "import numpy as np\n",
    "from scipy.stats import chi2\n",
    "\n",
    "# Given data\n",
    "dat = [339, 455, 180, 26]\n",
    "\n",
    "# Calculate the MLE for the binomial parameter p\n",
    "MLE = (1 / (1000 * 3)) * np.sum(dat)\n",
    "\n",
    "\n",
    "print(MLE)\n",
    "# Total count (sum of observed data)\n",
    "total_count = sum(dat)\n",
    "print(total_count)\n",
    "# Expected counts for each bin (0, 1, 2, 3) in a binomial distribution with parameters n=3, p=MLE\n",
    "n = 3\n",
    "expected_counts = [total_count * (np.math.comb(n, k) * MLE**k * (1 - MLE)**(n - k)) for k in range(0,4)]\n",
    "\n",
    "# Chi-squared test statistic\n",
    "test_statistic = sum((obs - exp)**2 / exp for obs, exp in zip(dat, expected_counts))\n",
    "\n",
    "print(\"Chi-squared test statistic:\", test_statistic)\n",
    "degrees_of_freedom = 2\n",
    "p_value = 1 - chi2.cdf(test_statistic, degrees_of_freedom)\n",
    "print(\"P-value:\", p_value)\n"
   ]
  },
  {
   "cell_type": "code",
   "execution_count": 30,
   "metadata": {},
   "outputs": [
    {
     "name": "stdout",
     "output_type": "stream",
     "text": [
      "MLE of p: 0.2976666666666667\n",
      "Expected counts: [346.44144603703694, 440.4919952222221, 186.69167144444452, 26.374887296296304]\n",
      "Chi-squared test statistic: 0.8828551921498904\n",
      "P-value: 0.6431176531870422\n"
     ]
    }
   ],
   "source": [
    "import numpy as np\n",
    "from scipy.stats import chi2, binom\n",
    "\n",
    "# Given data\n",
    "dat = [339, 455, 180, 26]\n",
    "\n",
    "# Total count (sum of observed data)\n",
    "total_count = sum(dat)\n",
    "n = 3\n",
    "\n",
    "# Calculate total successes\n",
    "total_successes = sum(k * count for k, count in enumerate(dat))\n",
    "\n",
    "# Calculate the MLE for the binomial parameter p\n",
    "MLE = total_successes / (n * total_count)\n",
    "\n",
    "print(\"MLE of p:\", MLE)\n",
    "\n",
    "# Expected counts for each bin (0, 1, 2, 3) in a binomial distribution with parameters n=3, p=MLE\n",
    "expected_counts = [total_count * binom.pmf(k, n, MLE) for k in range(n+1)]\n",
    "\n",
    "print(\"Expected counts:\", expected_counts)\n",
    "\n",
    "# Chi-squared test statistic\n",
    "test_statistic = sum((obs - exp)**2 / exp for obs, exp in zip(dat, expected_counts))\n",
    "\n",
    "print(\"Chi-squared test statistic:\", test_statistic)\n",
    "\n",
    "degrees_of_freedom = len(dat) - 1 - 1  # number of bins - 1 - number of estimated parameters\n",
    "p_value = 1 - chi2.cdf(test_statistic, degrees_of_freedom)\n",
    "print(\"P-value:\", p_value)\n"
   ]
  },
  {
   "cell_type": "code",
   "execution_count": 15,
   "metadata": {},
   "outputs": [
    {
     "data": {
      "text/plain": [
       "[0.01809954751131222,\n",
       " 0.32579185520361986,\n",
       " 0.3665158371040724,\n",
       " 0.2895927601809955]"
      ]
     },
     "execution_count": 15,
     "metadata": {},
     "output_type": "execute_result"
    }
   ],
   "source": [
    "zero_two=0.2**4*0.8**2*0.2\n",
    "zero_four=0.4**4*0.6**2*0.4\n",
    "zero_six=0.6**4*0.4**2*0.2\n",
    "zero_eight=0.8**4*0.2**2*0.2\n",
    "normalizer=zero_two+zero_four+zero_six+zero_eight\n",
    "p=[zero_two/normalizer,zero_four/normalizer,zero_six/normalizer,zero_eight/normalizer]\n",
    "p\n",
    "priors=[0.2,0.4,0.6,0.8]\n",
    "sum([priors[i]*p[i] for i in range(4)])\n",
    "#import numpy as np\n",
    "np.median(p,axis=0)\n",
    "p"
   ]
  }
 ],
 "metadata": {
  "kernelspec": {
   "display_name": ".venv",
   "language": "python",
   "name": "python3"
  },
  "language_info": {
   "codemirror_mode": {
    "name": "ipython",
    "version": 3
   },
   "file_extension": ".py",
   "mimetype": "text/x-python",
   "name": "python",
   "nbconvert_exporter": "python",
   "pygments_lexer": "ipython3",
   "version": "3.10.14"
  }
 },
 "nbformat": 4,
 "nbformat_minor": 2
}
