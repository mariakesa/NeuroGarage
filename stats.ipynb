{
 "cells": [
  {
   "cell_type": "code",
   "execution_count": 5,
   "metadata": {},
   "outputs": [
    {
     "name": "stdout",
     "output_type": "stream",
     "text": [
      "KL Divergence D_KL(N(mu, sigma^2) || N(theta, sigma^2)) =\n"
     ]
    },
    {
     "data": {
      "text/latex": [
       "$\\displaystyle \\frac{\\left(\\mu - \\theta\\right)^{2}}{2 \\sigma^{2}}$"
      ],
      "text/plain": [
       "(mu - theta)**2/(2*sigma**2)"
      ]
     },
     "execution_count": 5,
     "metadata": {},
     "output_type": "execute_result"
    }
   ],
   "source": [
    "import sympy as sp\n",
    "\n",
    "# Define symbolic variables\n",
    "x, mu, theta, sigma = sp.symbols('x mu theta sigma', real=True, positive=True)\n",
    "\n",
    "# Define the probability density functions for P ~ N(mu, sigma^2) and Q ~ N(theta, sigma^2)\n",
    "p = (1 / (sp.sqrt(2 * sp.pi) * sigma)) * sp.exp(-((x - mu)**2) / (2 * sigma**2))\n",
    "q = (1 / (sp.sqrt(2 * sp.pi) * sigma)) * sp.exp(-((x - theta)**2) / (2 * sigma**2))\n",
    "\n",
    "# Compute the logarithm of the ratio p/q\n",
    "log_ratio = sp.log(p / q)\n",
    "\n",
    "# Simplify the log ratio\n",
    "log_ratio_simplified = sp.simplify(log_ratio)\n",
    "# log_ratio_simplified should simplify to ((theta - mu)*(2*x - mu - theta))/(2*sigma**2)\n",
    "# However, it's easier to expand and simplify step by step\n",
    "\n",
    "# Let's compute p * log(p/q)\n",
    "kl_integrand = p * log_ratio\n",
    "\n",
    "# Expand the log_ratio\n",
    "log_p = -sp.log(sp.sqrt(2 * sp.pi) * sigma) - ((x - mu)**2) / (2 * sigma**2)\n",
    "log_q = -sp.log(sp.sqrt(2 * sp.pi) * sigma) - ((x - theta)**2) / (2 * sigma**2)\n",
    "log_p_over_q = log_p - log_q\n",
    "\n",
    "# Now, kl_integrand = p * (log_p - log_q)\n",
    "kl_integrand = p * (log_p_over_q)\n",
    "\n",
    "# Simplify log_p_over_q\n",
    "log_p_over_q = (-((x - mu)**2) / (2 * sigma**2)) - (-((x - theta)**2) / (2 * sigma**2))\n",
    "log_p_over_q = ((x - theta)**2 - (x - mu)**2) / (2 * sigma**2)\n",
    "# Expand the squares\n",
    "log_p_over_q = ((x**2 - 2*x*theta + theta**2) - (x**2 - 2*x*mu + mu**2)) / (2 * sigma**2)\n",
    "log_p_over_q = (-2*x*theta + theta**2 + 2*x*mu - mu**2) / (2 * sigma**2)\n",
    "log_p_over_q = (2*x*(mu - theta) + (theta**2 - mu**2)) / (2 * sigma**2)\n",
    "log_p_over_q = (x*(mu - theta) + (theta**2 - mu**2)/2) / sigma**2\n",
    "\n",
    "# So kl_integrand = p * (x*(mu - theta) + (theta**2 - mu**2)/2) / sigma**2\n",
    "\n",
    "# Now, integrate kl_integrand over x from -infty to +infty\n",
    "# Due to linearity, split the integral\n",
    "# D_KL = (mu - theta)/sigma**2 * ∫x p(x) dx + (theta**2 - mu**2)/(2*sigma**2) * ∫p(x) dx\n",
    "\n",
    "# We know that ∫x p(x) dx = mu and ∫p(x) dx = 1\n",
    "\n",
    "D_KL = (mu - theta)/sigma**2 * mu + (theta**2 - mu**2)/(2*sigma**2) * 1\n",
    "\n",
    "# Simplify the expression\n",
    "D_KL = (mu**2 - mu*theta) / sigma**2 + (theta**2 - mu**2) / (2 * sigma**2)\n",
    "D_KL = (2*(mu**2 - mu*theta) + theta**2 - mu**2) / (2 * sigma**2)\n",
    "D_KL = (mu**2 - 2*mu*theta + theta**2) / (2 * sigma**2)\n",
    "D_KL = (mu - theta)**2 / (2 * sigma**2)\n",
    "\n",
    "# Display the result\n",
    "print(\"KL Divergence D_KL(N(mu, sigma^2) || N(theta, sigma^2)) =\")\n",
    "sp.simplify(D_KL)\n"
   ]
  },
  {
   "cell_type": "code",
   "execution_count": 1,
   "metadata": {},
   "outputs": [
    {
     "data": {
      "text/latex": [
       "$\\displaystyle \\begin{cases} \\log{\\left(\\frac{\\lambda_{}}{\\mu} \\right)} - 1 + \\frac{\\mu}{\\lambda_{}} & \\text{for}\\: \\left|{\\arg{\\left(\\lambda_{} \\right)}}\\right| < \\frac{\\pi}{2} \\\\\\lambda_{} \\int\\limits_{0}^{\\infty} \\left(- x \\left(\\lambda_{} - \\mu\\right) + \\log{\\left(\\frac{\\lambda_{}}{\\mu} \\right)}\\right) e^{- \\lambda_{} x}\\, dx & \\text{otherwise} \\end{cases}$"
      ],
      "text/plain": [
       "Piecewise((log(lambda_/mu) - 1 + mu/lambda_, Abs(arg(lambda_)) < pi/2), (lambda_*Integral((-x*(lambda_ - mu) + log(lambda_/mu))*exp(-lambda_*x), (x, 0, oo)), True))"
      ]
     },
     "execution_count": 1,
     "metadata": {},
     "output_type": "execute_result"
    }
   ],
   "source": [
    "import sympy as sp\n",
    "\n",
    "# Define the symbolic variables\n",
    "lambda_, mu, x = sp.symbols('lambda_ mu x')\n",
    "\n",
    "# Define the exponential distribution terms\n",
    "p_x = lambda_ * sp.exp(-lambda_ * x)  # PDF of Exp(lambda)\n",
    "q_x = mu * sp.exp(-mu * x)            # PDF of Exp(mu)\n",
    "\n",
    "# Define the log term\n",
    "log_term = sp.log(lambda_ / mu) + (mu - lambda_) * x\n",
    "\n",
    "# Integrate the KL divergence\n",
    "kl_integral = sp.integrate(p_x * log_term, (x, 0, sp.oo))\n",
    "\n",
    "# Simplify the result\n",
    "kl_divergence_simplified = sp.simplify(kl_integral)\n",
    "\n",
    "# Display the result\n",
    "kl_divergence_simplified\n"
   ]
  }
 ],
 "metadata": {
  "kernelspec": {
   "display_name": ".venv",
   "language": "python",
   "name": "python3"
  },
  "language_info": {
   "codemirror_mode": {
    "name": "ipython",
    "version": 3
   },
   "file_extension": ".py",
   "mimetype": "text/x-python",
   "name": "python",
   "nbconvert_exporter": "python",
   "pygments_lexer": "ipython3",
   "version": "3.10.14"
  }
 },
 "nbformat": 4,
 "nbformat_minor": 2
}
