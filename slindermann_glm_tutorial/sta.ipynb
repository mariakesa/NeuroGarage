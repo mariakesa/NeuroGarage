{
 "cells": [
  {
   "cell_type": "code",
   "execution_count": 1,
   "metadata": {},
   "outputs": [
    {
     "name": "stdout",
     "output_type": "stream",
     "text": [
      "--2024-10-22 16:53:01--  https://www.dropbox.com/s/gmgus2rm4sks6b8/whitenoise.h5\n",
      "Resolving www.dropbox.com (www.dropbox.com)... 2620:100:6026:18::a27d:4612, 162.125.70.18\n",
      "Connecting to www.dropbox.com (www.dropbox.com)|2620:100:6026:18::a27d:4612|:443... connected.\n",
      "HTTP request sent, awaiting response... 302 Found\n",
      "Location: https://www.dropbox.com/scl/fi/vfa73xjnggeo2tnuhbyka/whitenoise.h5?rlkey=awkqy3a8lj86vhvy3gb9snzkw [following]\n",
      "--2024-10-22 16:53:02--  https://www.dropbox.com/scl/fi/vfa73xjnggeo2tnuhbyka/whitenoise.h5?rlkey=awkqy3a8lj86vhvy3gb9snzkw\n",
      "Reusing existing connection to [www.dropbox.com]:443.\n",
      "HTTP request sent, awaiting response... 302 Found\n",
      "Location: https://ucba24529c7839137ce06a70e299.dl.dropboxusercontent.com/cd/0/inline/Cc66AS1_OXpPXkAiTW4nTrPqLfVCQ_rk88lCrO9KrorF_MiXDEaCLofsbLPViGcKhNjnlDe-RbFRakrkLv1WzU8iJo10YbDsVSJ6gbVtx9V54CqpaMa-NobbXCuyGIuKSQk/file# [following]\n",
      "--2024-10-22 16:53:03--  https://ucba24529c7839137ce06a70e299.dl.dropboxusercontent.com/cd/0/inline/Cc66AS1_OXpPXkAiTW4nTrPqLfVCQ_rk88lCrO9KrorF_MiXDEaCLofsbLPViGcKhNjnlDe-RbFRakrkLv1WzU8iJo10YbDsVSJ6gbVtx9V54CqpaMa-NobbXCuyGIuKSQk/file\n",
      "Resolving ucba24529c7839137ce06a70e299.dl.dropboxusercontent.com (ucba24529c7839137ce06a70e299.dl.dropboxusercontent.com)... 2620:100:6026:15::a27d:460f, 162.125.70.15\n",
      "Connecting to ucba24529c7839137ce06a70e299.dl.dropboxusercontent.com (ucba24529c7839137ce06a70e299.dl.dropboxusercontent.com)|2620:100:6026:15::a27d:460f|:443... connected.\n",
      "HTTP request sent, awaiting response... 302 Found\n",
      "Location: /cd/0/inline2/Cc6Mw1XxQg0U-Pr0W8wDADQaG8UyZigOcmMCSHsAplCSrT5cYFs6N3SMPQCzD7DymFh7MqQIjyx_l49hEH5SG18jvmUS6jgd_xR-CTEqwnjls1BwmYmd5wpZGdeTNXDoJOC6EkhAzmyGQmEZ-lFR1K9S0QFvyFNulzL5man252Sf8eo-omkS7f64GSEsp5xE9VLQiEh-3PVvUOsQVRerk9snR1tgYoVVV6eRTv9cCpudOysGQ2nSAg6vAfudCwy-WcdAa1SNh7-NphW13aTdPbP_60r6lMfjL6ahug0lsp5aEhWa2HdHwesl0Zq88r6oaJh9yuOJbThzID1-9TTGh3EbyIHCUkORrDtz910SLu_VrQ/file [following]\n",
      "--2024-10-22 16:53:03--  https://ucba24529c7839137ce06a70e299.dl.dropboxusercontent.com/cd/0/inline2/Cc6Mw1XxQg0U-Pr0W8wDADQaG8UyZigOcmMCSHsAplCSrT5cYFs6N3SMPQCzD7DymFh7MqQIjyx_l49hEH5SG18jvmUS6jgd_xR-CTEqwnjls1BwmYmd5wpZGdeTNXDoJOC6EkhAzmyGQmEZ-lFR1K9S0QFvyFNulzL5man252Sf8eo-omkS7f64GSEsp5xE9VLQiEh-3PVvUOsQVRerk9snR1tgYoVVV6eRTv9cCpudOysGQ2nSAg6vAfudCwy-WcdAa1SNh7-NphW13aTdPbP_60r6lMfjL6ahug0lsp5aEhWa2HdHwesl0Zq88r6oaJh9yuOJbThzID1-9TTGh3EbyIHCUkORrDtz910SLu_VrQ/file\n",
      "Reusing existing connection to [ucba24529c7839137ce06a70e299.dl.dropboxusercontent.com]:443.\n",
      "HTTP request sent, awaiting response... 200 OK\n",
      "Length: 1026877736 (979M) [application/octet-stream]\n",
      "Saving to: ‘whitenoise.h5’\n",
      "\n",
      "whitenoise.h5       100%[===================>] 979.31M  22.2MB/s    in 45s     \n",
      "\n",
      "2024-10-22 16:53:49 (21.8 MB/s) - ‘whitenoise.h5’ saved [1026877736/1026877736]\n",
      "\n"
     ]
    }
   ],
   "source": [
    "!wget -nc https://www.dropbox.com/s/gmgus2rm4sks6b8/whitenoise.h5"
   ]
  },
  {
   "cell_type": "code",
   "execution_count": 2,
   "metadata": {},
   "outputs": [
    {
     "name": "stderr",
     "output_type": "stream",
     "text": [
      "/home/maria/NeuroGarage/.venv/lib/python3.10/site-packages/tqdm/auto.py:21: TqdmWarning: IProgress not found. Please update jupyter and ipywidgets. See https://ipywidgets.readthedocs.io/en/stable/user_install.html\n",
      "  from .autonotebook import tqdm as notebook_tqdm\n"
     ]
    }
   ],
   "source": [
    "import torch\n",
    "import torch.nn as nn\n",
    "import torch.nn.functional as F\n",
    "from torch.utils.data import Dataset, DataLoader\n",
    "import torch.optim as optim\n",
    "from torch.optim import lr_scheduler\n",
    "from torch.distributions import Poisson\n",
    "\n",
    "\n",
    "import h5py\n",
    "import matplotlib.pyplot as plt\n",
    "import seaborn as sns\n",
    "from tqdm.auto import trange\n",
    "from copy import deepcopy\n",
    "\n",
    "\n",
    "# Specify that we want our tensors on the GPU and in float32\n",
    "device = torch.device('cuda')\n",
    "dtype = torch.float32\n",
    "# Load the white noise data\n",
    "f = h5py.File(\"whitenoise.h5\", mode='r')\n",
    "frame_rate = 100\n",
    "times = torch.tensor(f['train']['time'][:], dtype=dtype)\n",
    "stimulus = torch.tensor(f['train']['stimulus'][:], dtype=torch.uint8)\n",
    "spikes = torch.tensor(f['train']['response']['binned'][:].T, dtype=dtype)\n",
    "test_times = torch.tensor(f['test']['time'][:], dtype=dtype)\n",
    "test_stimulus = torch.tensor(f['test']['stimulus'][:], dtype=torch.uint8)\n",
    "test_rates = torch.tensor(f['test']['response']['binned'][:, :-1].T, dtype=dtype)\n",
    "\n",
    "# Get the size of the training data\n",
    "num_frames, height, width = stimulus.shape\n",
    "_, num_neurons = spikes.shape\n"
   ]
  },
  {
   "cell_type": "code",
   "execution_count": 4,
   "metadata": {},
   "outputs": [
    {
     "data": {
      "text/plain": [
       "9"
      ]
     },
     "execution_count": 4,
     "metadata": {},
     "output_type": "execute_result"
    }
   ],
   "source": [
    "num_frames\n",
    "num_neurons"
   ]
  }
 ],
 "metadata": {
  "kernelspec": {
   "display_name": ".venv",
   "language": "python",
   "name": "python3"
  },
  "language_info": {
   "codemirror_mode": {
    "name": "ipython",
    "version": 3
   },
   "file_extension": ".py",
   "mimetype": "text/x-python",
   "name": "python",
   "nbconvert_exporter": "python",
   "pygments_lexer": "ipython3",
   "version": "3.12.3"
  }
 },
 "nbformat": 4,
 "nbformat_minor": 2
}
