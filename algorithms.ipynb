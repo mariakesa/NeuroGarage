{
 "cells": [
  {
   "cell_type": "code",
   "execution_count": 2,
   "metadata": {},
   "outputs": [
    {
     "name": "stdout",
     "output_type": "stream",
     "text": [
      "deque(['A'])\n",
      "deque(['A', 'B'])\n",
      "deque(['A', 'B', 'D'])\n",
      "deque(['A', 'B', 'D', 'E'])\n",
      "deque(['A', 'B', 'D', 'E', 'C'])\n",
      "deque(['A', 'B', 'D', 'E', 'C', 'F'])\n",
      "Preorder Traversal Queue: ['A', 'B', 'D', 'E', 'C', 'F']\n"
     ]
    }
   ],
   "source": [
    "from collections import deque\n",
    "\n",
    "# Define the structure of a tree node\n",
    "class TreeNode:\n",
    "    def __init__(self, value):\n",
    "        self.value = value\n",
    "        self.left = None\n",
    "        self.right = None\n",
    "\n",
    "# Preorder traversal function that enqueues node values\n",
    "def preorder_traversal(root, queue):\n",
    "    if root is None:\n",
    "        return\n",
    "    # Visit the root\n",
    "    queue.append(root.value)\n",
    "    print(queue)\n",
    "    # Traverse the left subtree\n",
    "    preorder_traversal(root.left, queue)\n",
    "    # Traverse the right subtree\n",
    "    preorder_traversal(root.right, queue)\n",
    "\n",
    "# Example usage\n",
    "if __name__ == \"__main__\":\n",
    "    # Create a sample binary tree\n",
    "    \"\"\"\n",
    "          A\n",
    "         / \\\n",
    "        B   C\n",
    "       / \\   \\\n",
    "      D   E   F\n",
    "    \"\"\"\n",
    "    root = TreeNode('A')\n",
    "    root.left = TreeNode('B')\n",
    "    root.right = TreeNode('C')\n",
    "    root.left.left = TreeNode('D')\n",
    "    root.left.right = TreeNode('E')\n",
    "    root.right.right = TreeNode('F')\n",
    "\n",
    "    # Initialize an empty queue\n",
    "    traversal_queue = deque()\n",
    "\n",
    "    # Perform preorder traversal and store nodes in the queue\n",
    "    preorder_traversal(root, traversal_queue)\n",
    "\n",
    "    # Print the contents of the queue\n",
    "    print(\"Preorder Traversal Queue:\", list(traversal_queue))\n"
   ]
  },
  {
   "cell_type": "code",
   "execution_count": null,
   "metadata": {},
   "outputs": [],
   "source": [
    "for q in queue:\n",
    "    "
   ]
  }
 ],
 "metadata": {
  "kernelspec": {
   "display_name": ".venv",
   "language": "python",
   "name": "python3"
  },
  "language_info": {
   "codemirror_mode": {
    "name": "ipython",
    "version": 3
   },
   "file_extension": ".py",
   "mimetype": "text/x-python",
   "name": "python",
   "nbconvert_exporter": "python",
   "pygments_lexer": "ipython3",
   "version": "3.10.15"
  }
 },
 "nbformat": 4,
 "nbformat_minor": 2
}
