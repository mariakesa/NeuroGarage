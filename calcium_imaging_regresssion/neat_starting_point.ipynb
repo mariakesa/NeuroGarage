{
 "cells": [
  {
   "cell_type": "code",
   "execution_count": 18,
   "metadata": {},
   "outputs": [
    {
     "name": "stdout",
     "output_type": "stream",
     "text": [
      "(900,)\n",
      "(5, 180)\n"
     ]
    },
    {
     "data": {
      "text/plain": [
       "array([4, 1, 1, 3, 4])"
      ]
     },
     "execution_count": 18,
     "metadata": {},
     "output_type": "execute_result"
    }
   ],
   "source": [
    "from dotenv import load_dotenv\n",
    "import numpy as np\n",
    "import matplotlib.pyplot as plt\n",
    "from pathlib import Path\n",
    "from allensdk.core.brain_observatory_cache import BrainObservatoryCache\n",
    "import os\n",
    "import pickle\n",
    "\n",
    "# Load environment variables\n",
    "load_dotenv()\n",
    "allen_cache_path = os.environ.get('HGMS_ALLEN_CACHE_PATH')\n",
    "\n",
    "# Initialize BrainObservatoryCache\n",
    "boc = BrainObservatoryCache(manifest_file=str(Path(allen_cache_path) / Path('brain_observatory_manifest.json')))\n",
    "\n",
    "# Get ophys experiments\n",
    "cell_exp = boc.get_ophys_experiments(experiment_container_ids=[511511001])\n",
    "\n",
    "# Load Transformer embeddings\n",
    "file_path = \"/home/maria/Documents/HuggingMouseData/TransformerEmbeddings/google_vit-base-patch16-224-in21k_embeddings.pkl\"\n",
    "with open(file_path, 'rb') as file:\n",
    "    transfr = pickle.load(file)\n",
    "\n",
    "movie_one = transfr['natural_movie_one']\n",
    "\n",
    "embeddings=movie_one[:,0]\n",
    "\n",
    "experiment_id = 506278598\n",
    "data_set_regression = boc.get_ophys_experiment_data(experiment_id)\n",
    "data_set_events = boc.get_ophys_experiment_events(experiment_id)\n",
    "\n",
    "stim_table = data_set_regression.get_stimulus_table('natural_movie_one')\n",
    "ts = stim_table[stim_table['repeat'] == 0]['start'].values\n",
    "\n",
    "neuron=data_set_events[6,ts]\n",
    "# Partition the embeddings into 5 levels based on quantiles\n",
    "quantiles = np.percentile(embeddings, [20, 40, 60, 80])\n",
    "bins = np.concatenate(([-np.inf], quantiles, [np.inf]))\n",
    "levels = np.digitize(embeddings, bins) - 1  # Levels from 0 to 4\n",
    "print(embeddings.shape)\n",
    "\n",
    "event_values_per_level = []\n",
    "for level in range(5):\n",
    "    indices = np.where(levels == level)[0]\n",
    "    event_values = neuron[indices]\n",
    "    event_values_per_level.append(event_values)\n",
    "\n",
    "event_values_per_level = np.array(event_values_per_level) \n",
    "print(event_values_per_level.shape)\n",
    "#print(event_values_per_level)\n",
    "\n",
    "event_values_nonzero=np.count_nonzero(event_values_per_level, axis=1)\n",
    "event_values_nonzero"
   ]
  },
  {
   "cell_type": "code",
   "execution_count": 22,
   "metadata": {},
   "outputs": [
    {
     "data": {
      "text/plain": [
       "(array([[0., 5., 0., 2., 0., 2., 1., 0., 0., 0.],\n",
       "        [0., 4., 0., 2., 0., 1., 1., 0., 2., 0.],\n",
       "        [1., 4., 0., 2., 0., 1., 2., 0., 0., 0.],\n",
       "        [0., 1., 0., 3., 0., 4., 0., 0., 1., 1.],\n",
       "        [1., 2., 0., 1., 0., 4., 1., 0., 0., 1.]]),\n",
       " array([0. , 0.6, 1.2, 1.8, 2.4, 3. , 3.6, 4.2, 4.8, 5.4, 6. ]),\n",
       " <a list of 5 BarContainer objects>)"
      ]
     },
     "execution_count": 22,
     "metadata": {},
     "output_type": "execute_result"
    },
    {
     "data": {
      "image/png": "[encoded data removed]",
      "text/plain": [
       "<Figure size 640x480 with 1 Axes>"
      ]
     },
     "metadata": {},
     "output_type": "display_data"
    }
   ],
   "source": [
    "from dotenv import load_dotenv\n",
    "import numpy as np\n",
    "import matplotlib.pyplot as plt\n",
    "from pathlib import Path\n",
    "from allensdk.core.brain_observatory_cache import BrainObservatoryCache\n",
    "import os\n",
    "import pickle\n",
    "\n",
    "# Load environment variables\n",
    "load_dotenv()\n",
    "allen_cache_path = os.environ.get('HGMS_ALLEN_CACHE_PATH')\n",
    "\n",
    "# Initialize BrainObservatoryCache\n",
    "boc = BrainObservatoryCache(manifest_file=str(Path(allen_cache_path) / Path('brain_observatory_manifest.json')))\n",
    "\n",
    "# Get ophys experiments\n",
    "cell_exp = boc.get_ophys_experiments(experiment_container_ids=[511511001])\n",
    "\n",
    "# Load Transformer embeddings\n",
    "file_path = \"/home/maria/Documents/HuggingMouseData/TransformerEmbeddings/google_vit-base-patch16-224-in21k_embeddings.pkl\"\n",
    "with open(file_path, 'rb') as file:\n",
    "    transfr = pickle.load(file)\n",
    "\n",
    "stimuli = transfr['natural_movie_one']\n",
    "\n",
    "experiment_id = 506278598\n",
    "data_set_regression = boc.get_ophys_experiment_data(experiment_id)\n",
    "data_set_events = boc.get_ophys_experiment_events(experiment_id)\n",
    "\n",
    "stim_table = data_set_regression.get_stimulus_table('natural_movie_one')\n",
    "\n",
    "def generate_event_count_vector_levels(trial_ind, neuron_ind, transformer_emb_ind):\n",
    "    ts = stim_table[stim_table['repeat'] == trial_ind]['start'].values\n",
    "    neuron=data_set_events[neuron_ind,ts]\n",
    "    embeddings = stimuli[:,transformer_emb_ind]\n",
    "    # Partition the embeddings into 5 levels based on quantiles\n",
    "    quantiles = np.percentile(embeddings, [20, 40, 60, 80])\n",
    "    bins = np.concatenate(([-np.inf], quantiles, [np.inf]))\n",
    "    levels = np.digitize(embeddings, bins) - 1 \n",
    "\n",
    "    event_values_per_level = []\n",
    "    for level in range(5):\n",
    "        indices = np.where(levels == level)[0]\n",
    "        event_values = neuron[indices]\n",
    "        event_values_per_level.append(event_values)\n",
    "\n",
    "    event_values_per_level = np.array(event_values_per_level)\n",
    "    event_values_nonzero=np.count_nonzero(event_values_per_level, axis=1)\n",
    "\n",
    "    return event_values_nonzero\n",
    "\n",
    "neuron_trial_counts=[]\n",
    "\n",
    "for trial in range(10):\n",
    "    neuron_trial_counts.append(generate_event_count_vector_levels(trial, 6, 0))\n",
    "\n",
    "neuron_trial_counts=np.array(neuron_trial_counts)\n",
    "\n",
    "plt.hist(neuron_trial_counts)"
   ]
  },
  {
   "cell_type": "code",
   "execution_count": 27,
   "metadata": {},
   "outputs": [
    {
     "name": "stdout",
     "output_type": "stream",
     "text": [
      "                 Generalized Linear Model Regression Results                  \n",
      "==============================================================================\n",
      "Dep. Variable:                  Count   No. Observations:                   50\n",
      "Model:                            GLM   Df Residuals:                       45\n",
      "Model Family:                 Poisson   Df Model:                            4\n",
      "Link Function:                    Log   Scale:                          1.0000\n",
      "Method:                          IRLS   Log-Likelihood:                -85.744\n",
      "Date:                Tue, 03 Dec 2024   Deviance:                       43.364\n",
      "Time:                        20:38:55   Pearson chi2:                     41.3\n",
      "No. Iterations:                     4   Pseudo R-squ. (CS):            0.07372\n",
      "Covariance Type:            nonrobust                                         \n",
      "=================================================================================\n",
      "                    coef    std err          z      P>|z|      [0.025      0.975]\n",
      "---------------------------------------------------------------------------------\n",
      "Intercept         0.6419      0.229      2.798      0.005       0.192       1.092\n",
      "C(Level)[T.1]     0.2744      0.304      0.902      0.367      -0.322       0.871\n",
      "C(Level)[T.2]  3.768e-13      0.324   1.16e-12      1.000      -0.636       0.636\n",
      "C(Level)[T.3]     0.4568      0.293      1.558      0.119      -0.118       1.031\n",
      "C(Level)[T.4]     0.3137      0.302      1.039      0.299      -0.278       0.905\n",
      "=================================================================================\n",
      "Levels do not significantly predict neuron event counts.\n"
     ]
    }
   ],
   "source": [
    "import pandas as pd\n",
    "import statsmodels.api as sm\n",
    "import statsmodels.formula.api as smf\n",
    "\n",
    "# Prepare the data\n",
    "data = []\n",
    "for trial_index in range(neuron_trial_counts.shape[0]):\n",
    "    for level_index in range(neuron_trial_counts.shape[1]):\n",
    "        count = neuron_trial_counts[trial_index, level_index]\n",
    "        data.append({\n",
    "            'Count': count,\n",
    "            'Level': level_index,\n",
    "            'Trial': trial_index\n",
    "        })\n",
    "\n",
    "df = pd.DataFrame(data)\n",
    "\n",
    "# Fit Poisson regression model\n",
    "model = smf.glm(formula='Count ~ C(Level)', data=df, family=sm.families.Poisson()).fit()\n",
    "\n",
    "print(model.summary())\n",
    "\n",
    "# Test the significance of the levels\n",
    "if model.pvalues['C(Level)[T.1]'] < 0.05 or \\\n",
    "   model.pvalues['C(Level)[T.2]'] < 0.05 or \\\n",
    "   model.pvalues['C(Level)[T.3]'] < 0.05 or \\\n",
    "   model.pvalues['C(Level)[T.4]'] < 0.05:\n",
    "    print(\"At least one level significantly predicts neuron event counts.\")\n",
    "else:\n",
    "    print(\"Levels do not significantly predict neuron event counts.\")\n"
   ]
  }
 ],
 "metadata": {
  "kernelspec": {
   "display_name": ".venv",
   "language": "python",
   "name": "python3"
  },
  "language_info": {
   "codemirror_mode": {
    "name": "ipython",
    "version": 3
   },
   "file_extension": ".py",
   "mimetype": "text/x-python",
   "name": "python",
   "nbconvert_exporter": "python",
   "pygments_lexer": "ipython3",
   "version": "3.10.15"
  }
 },
 "nbformat": 4,
 "nbformat_minor": 2
}
