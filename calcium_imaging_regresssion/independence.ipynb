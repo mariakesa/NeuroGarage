{
 "cells": [
  {
   "cell_type": "code",
   "execution_count": 1,
   "metadata": {},
   "outputs": [
    {
     "data": {
      "text/plain": [
       "(array([[0., 5., 0., 2., 0., 2., 1., 0., 0., 0.],\n",
       "        [0., 4., 0., 2., 0., 1., 1., 0., 2., 0.],\n",
       "        [1., 4., 0., 2., 0., 1., 2., 0., 0., 0.],\n",
       "        [0., 1., 0., 3., 0., 4., 0., 0., 1., 1.],\n",
       "        [1., 2., 0., 1., 0., 4., 1., 0., 0., 1.]]),\n",
       " array([0. , 0.6, 1.2, 1.8, 2.4, 3. , 3.6, 4.2, 4.8, 5.4, 6. ]),\n",
       " <a list of 5 BarContainer objects>)"
      ]
     },
     "execution_count": 1,
     "metadata": {},
     "output_type": "execute_result"
    },
    {
     "data": {
      "image/png": "[encoded data removed]",
      "text/plain": [
       "<Figure size 640x480 with 1 Axes>"
      ]
     },
     "metadata": {},
     "output_type": "display_data"
    }
   ],
   "source": [
    "from dotenv import load_dotenv\n",
    "import numpy as np\n",
    "import matplotlib.pyplot as plt\n",
    "from pathlib import Path\n",
    "from allensdk.core.brain_observatory_cache import BrainObservatoryCache\n",
    "import os\n",
    "import pickle\n",
    "\n",
    "# Load environment variables\n",
    "load_dotenv()\n",
    "allen_cache_path = os.environ.get('HGMS_ALLEN_CACHE_PATH')\n",
    "\n",
    "# Initialize BrainObservatoryCache\n",
    "boc = BrainObservatoryCache(manifest_file=str(Path(allen_cache_path) / Path('brain_observatory_manifest.json')))\n",
    "\n",
    "# Get ophys experiments\n",
    "cell_exp = boc.get_ophys_experiments(experiment_container_ids=[511511001])\n",
    "\n",
    "# Load Transformer embeddings\n",
    "file_path = \"/home/maria/Documents/HuggingMouseData/TransformerEmbeddings/google_vit-base-patch16-224-in21k_embeddings.pkl\"\n",
    "with open(file_path, 'rb') as file:\n",
    "    transfr = pickle.load(file)\n",
    "\n",
    "stimuli = transfr['natural_movie_one']\n",
    "\n",
    "experiment_id = 506278598\n",
    "data_set_regression = boc.get_ophys_experiment_data(experiment_id)\n",
    "data_set_events = boc.get_ophys_experiment_events(experiment_id)\n",
    "\n",
    "stim_table = data_set_regression.get_stimulus_table('natural_movie_one')\n",
    "\n",
    "def generate_event_count_vector_levels(trial_ind, neuron_ind, transformer_emb_ind):\n",
    "    ts = stim_table[stim_table['repeat'] == trial_ind]['start'].values\n",
    "    neuron=data_set_events[neuron_ind,ts]\n",
    "    embeddings = stimuli[:,transformer_emb_ind]\n",
    "    # Partition the embeddings into 5 levels based on quantiles\n",
    "    quantiles = np.percentile(embeddings, [20, 40, 60, 80])\n",
    "    bins = np.concatenate(([-np.inf], quantiles, [np.inf]))\n",
    "    levels = np.digitize(embeddings, bins) - 1 \n",
    "\n",
    "    event_values_per_level = []\n",
    "    for level in range(5):\n",
    "        indices = np.where(levels == level)[0]\n",
    "        event_values = neuron[indices]\n",
    "        event_values_per_level.append(event_values)\n",
    "\n",
    "    event_values_per_level = np.array(event_values_per_level)\n",
    "    event_values_nonzero=np.count_nonzero(event_values_per_level, axis=1)\n",
    "\n",
    "    return event_values_nonzero\n",
    "\n",
    "neuron_trial_counts=[]\n",
    "\n",
    "for trial in range(10):\n",
    "    neuron_trial_counts.append(generate_event_count_vector_levels(trial, 6, 0))\n",
    "\n",
    "neuron_trial_counts=np.array(neuron_trial_counts)\n",
    "\n",
    "plt.hist(neuron_trial_counts)"
   ]
  },
  {
   "cell_type": "code",
   "execution_count": 5,
   "metadata": {},
   "outputs": [
    {
     "data": {
      "text/plain": [
       "array([4, 1, 1, 3, 4, 1, 3, 2, 1, 6, 2, 4, 4, 5, 3, 1, 2, 1, 3, 2, 1, 5,\n",
       "       0, 2, 0, 3, 2, 4, 3, 1, 3, 1, 2, 2, 3, 2, 5, 3, 2, 1, 1, 1, 1, 3,\n",
       "       3, 1, 1, 1, 6, 3])"
      ]
     },
     "execution_count": 5,
     "metadata": {},
     "output_type": "execute_result"
    }
   ],
   "source": [
    "import numpy as np\n",
    "\n",
    "# Assuming neuron_trial_counts is already defined\n",
    "# Shape of neuron_trial_counts: (num_trials, num_levels)\n",
    "num_trials, num_levels = neuron_trial_counts.shape\n",
    "\n",
    "# Flatten the counts\n",
    "counts = neuron_trial_counts.flatten()  # Shape: (num_trials * num_levels,)\n",
    "\n",
    "# Create an array for levels (repeating each level for all trials)\n",
    "levels = np.tile(np.arange(num_levels), num_trials)  # Shape: (num_trials * num_levels,)\n",
    "\n",
    "# Create an array for trials (repeating each trial index for all levels)\n",
    "trials = np.repeat(np.arange(num_trials), num_levels)  # Shape: (num_trials * num_levels,)\n",
    "\n",
    "levels\n",
    "trials\n",
    "counts\n"
   ]
  },
  {
   "cell_type": "code",
   "execution_count": 6,
   "metadata": {},
   "outputs": [
    {
     "name": "stdout",
     "output_type": "stream",
     "text": [
      "p(level):\n",
      "Level 0: 0.2000\n",
      "Level 1: 0.2000\n",
      "Level 2: 0.2000\n",
      "Level 3: 0.2000\n",
      "Level 4: 0.2000\n"
     ]
    }
   ],
   "source": [
    "# Total number of observations\n",
    "N = counts.size  # Should be num_trials * num_levels\n",
    "\n",
    "# Count the occurrences of each level\n",
    "counts_per_level = np.bincount(levels, minlength=num_levels)  # Shape: (num_levels,)\n",
    "\n",
    "# Calculate p(level)\n",
    "p_level = counts_per_level / N  # Shape: (num_levels,)\n",
    "\n",
    "print(\"p(level):\")\n",
    "for lvl in range(num_levels):\n",
    "    print(f\"Level {lvl}: {p_level[lvl]:.4f}\")\n"
   ]
  },
  {
   "cell_type": "code",
   "execution_count": 7,
   "metadata": {},
   "outputs": [
    {
     "name": "stdout",
     "output_type": "stream",
     "text": [
      "\n",
      "p(count):\n",
      "Count 0: 0.0400\n",
      "Count 1: 0.3200\n",
      "Count 2: 0.2000\n",
      "Count 3: 0.2400\n",
      "Count 4: 0.1000\n",
      "Count 5: 0.0600\n",
      "Count 6: 0.0400\n"
     ]
    }
   ],
   "source": [
    "# Find the maximum count to determine the range of counts\n",
    "max_count = counts.max()\n",
    "\n",
    "# Count the occurrences of each count value\n",
    "counts_per_count = np.bincount(counts, minlength=max_count + 1)  # Shape: (max_count + 1,)\n",
    "\n",
    "# Calculate p(count)\n",
    "p_count = counts_per_count / N  # Shape: (max_count + 1,)\n",
    "\n",
    "print(\"\\np(count):\")\n",
    "for cnt in range(max_count + 1):\n",
    "    print(f\"Count {cnt}: {p_count[cnt]:.4f}\")\n"
   ]
  },
  {
   "cell_type": "code",
   "execution_count": 8,
   "metadata": {},
   "outputs": [
    {
     "name": "stdout",
     "output_type": "stream",
     "text": [
      "\n",
      "p(level, count):\n",
      "Level 0, Count 1: 0.1000\n",
      "Level 0, Count 2: 0.0400\n",
      "Level 0, Count 3: 0.0400\n",
      "Level 0, Count 4: 0.0200\n",
      "Level 1, Count 1: 0.0800\n",
      "Level 1, Count 2: 0.0400\n",
      "Level 1, Count 3: 0.0200\n",
      "Level 1, Count 4: 0.0200\n",
      "Level 1, Count 5: 0.0400\n",
      "Level 2, Count 0: 0.0200\n",
      "Level 2, Count 1: 0.0800\n",
      "Level 2, Count 2: 0.0400\n",
      "Level 2, Count 3: 0.0200\n",
      "Level 2, Count 4: 0.0400\n",
      "Level 3, Count 1: 0.0200\n",
      "Level 3, Count 2: 0.0600\n",
      "Level 3, Count 3: 0.0800\n",
      "Level 3, Count 5: 0.0200\n",
      "Level 3, Count 6: 0.0200\n",
      "Level 4, Count 0: 0.0200\n",
      "Level 4, Count 1: 0.0400\n",
      "Level 4, Count 2: 0.0200\n",
      "Level 4, Count 3: 0.0800\n",
      "Level 4, Count 4: 0.0200\n",
      "Level 4, Count 6: 0.0200\n"
     ]
    }
   ],
   "source": [
    "# Create a 2D array to hold joint counts\n",
    "joint_counts = np.zeros((num_levels, max_count + 1), dtype=int)  # Shape: (num_levels, max_count + 1)\n",
    "\n",
    "# Populate the joint counts\n",
    "for lvl, cnt in zip(levels, counts):\n",
    "    joint_counts[lvl, cnt] += 1\n",
    "\n",
    "# Calculate p(level, count)\n",
    "p_level_count = joint_counts / N  # Shape: (num_levels, max_count + 1)\n",
    "\n",
    "print(\"\\np(level, count):\")\n",
    "for lvl in range(num_levels):\n",
    "    for cnt in range(max_count + 1):\n",
    "        prob = p_level_count[lvl, cnt]\n",
    "        if prob > 0:\n",
    "            print(f\"Level {lvl}, Count {cnt}: {prob:.4f}\")\n"
   ]
  },
  {
   "cell_type": "code",
   "execution_count": 9,
   "metadata": {},
   "outputs": [],
   "source": [
    "# Marginal over counts (summing over levels)\n",
    "p_count_marginal = np.sum(p_level_count, axis=0)  # Shape: (max_count + 1,)\n",
    "# Marginal over levels (summing over counts)\n",
    "p_level_marginal = np.sum(p_level_count, axis=1)  # Shape: (num_levels,)\n",
    "\n",
    "# Compare with previous p(count)\n",
    "assert np.allclose(p_count, p_count_marginal), \"Marginal p(count) does not match.\"\n",
    "\n",
    "# Compare with previous p(level)\n",
    "assert np.allclose(p_level, p_level_marginal), \"Marginal p(level) does not match.\"\n"
   ]
  },
  {
   "cell_type": "code",
   "execution_count": 10,
   "metadata": {},
   "outputs": [
    {
     "name": "stdout",
     "output_type": "stream",
     "text": [
      "\n",
      "Mutual Information I(Level; Count): 0.3572 bits\n"
     ]
    }
   ],
   "source": [
    "import numpy as np\n",
    "\n",
    "# Assuming the previous code has been run and we have:\n",
    "# p_level: probability distribution over levels\n",
    "# p_count: probability distribution over counts\n",
    "# p_level_count: joint probability distribution over levels and counts\n",
    "\n",
    "# Compute mutual information\n",
    "mutual_info = 0.0\n",
    "\n",
    "for lvl in range(num_levels):\n",
    "    for cnt in range(max_count + 1):\n",
    "        p_joint = p_level_count[lvl, cnt]\n",
    "        if p_joint > 0:\n",
    "            p_lvl = p_level[lvl]\n",
    "            p_cnt = p_count[cnt]\n",
    "            mutual_info += p_joint * np.log2(p_joint / (p_lvl * p_cnt))\n",
    "\n",
    "print(f\"\\nMutual Information I(Level; Count): {mutual_info:.4f} bits\")\n"
   ]
  },
  {
   "cell_type": "code",
   "execution_count": 12,
   "metadata": {},
   "outputs": [
    {
     "name": "stdout",
     "output_type": "stream",
     "text": [
      "\n",
      "Level and Count are not independent.\n",
      "\n",
      "Differences between observed and expected joint probabilities:\n",
      "Level 0, Count 0: Observed = 0.000000, Expected = 0.008000, Difference = -0.008000\n",
      "Level 0, Count 1: Observed = 0.100000, Expected = 0.064000, Difference = 0.036000\n",
      "Level 0, Count 3: Observed = 0.040000, Expected = 0.048000, Difference = -0.008000\n",
      "Level 0, Count 5: Observed = 0.000000, Expected = 0.012000, Difference = -0.012000\n",
      "Level 0, Count 6: Observed = 0.000000, Expected = 0.008000, Difference = -0.008000\n",
      "Level 1, Count 0: Observed = 0.000000, Expected = 0.008000, Difference = -0.008000\n",
      "Level 1, Count 1: Observed = 0.080000, Expected = 0.064000, Difference = 0.016000\n",
      "Level 1, Count 3: Observed = 0.020000, Expected = 0.048000, Difference = -0.028000\n",
      "Level 1, Count 5: Observed = 0.040000, Expected = 0.012000, Difference = 0.028000\n",
      "Level 1, Count 6: Observed = 0.000000, Expected = 0.008000, Difference = -0.008000\n",
      "Level 2, Count 0: Observed = 0.020000, Expected = 0.008000, Difference = 0.012000\n",
      "Level 2, Count 1: Observed = 0.080000, Expected = 0.064000, Difference = 0.016000\n",
      "Level 2, Count 3: Observed = 0.020000, Expected = 0.048000, Difference = -0.028000\n",
      "Level 2, Count 4: Observed = 0.040000, Expected = 0.020000, Difference = 0.020000\n",
      "Level 2, Count 5: Observed = 0.000000, Expected = 0.012000, Difference = -0.012000\n",
      "Level 2, Count 6: Observed = 0.000000, Expected = 0.008000, Difference = -0.008000\n",
      "Level 3, Count 0: Observed = 0.000000, Expected = 0.008000, Difference = -0.008000\n",
      "Level 3, Count 1: Observed = 0.020000, Expected = 0.064000, Difference = -0.044000\n",
      "Level 3, Count 2: Observed = 0.060000, Expected = 0.040000, Difference = 0.020000\n",
      "Level 3, Count 3: Observed = 0.080000, Expected = 0.048000, Difference = 0.032000\n",
      "Level 3, Count 4: Observed = 0.000000, Expected = 0.020000, Difference = -0.020000\n",
      "Level 3, Count 5: Observed = 0.020000, Expected = 0.012000, Difference = 0.008000\n",
      "Level 3, Count 6: Observed = 0.020000, Expected = 0.008000, Difference = 0.012000\n",
      "Level 4, Count 0: Observed = 0.020000, Expected = 0.008000, Difference = 0.012000\n",
      "Level 4, Count 1: Observed = 0.040000, Expected = 0.064000, Difference = -0.024000\n",
      "Level 4, Count 2: Observed = 0.020000, Expected = 0.040000, Difference = -0.020000\n",
      "Level 4, Count 3: Observed = 0.080000, Expected = 0.048000, Difference = 0.032000\n",
      "Level 4, Count 5: Observed = 0.000000, Expected = 0.012000, Difference = -0.012000\n",
      "Level 4, Count 6: Observed = 0.020000, Expected = 0.008000, Difference = 0.012000\n",
      "\n",
      "Maximum absolute difference: 0.044000\n"
     ]
    }
   ],
   "source": [
    "import numpy as np\n",
    "\n",
    "# Assuming the previous code has been run and we have:\n",
    "# p_level: probability distribution over levels\n",
    "# p_count: probability distribution over counts\n",
    "# p_level_count: joint probability distribution over levels and counts\n",
    "\n",
    "# Compute expected joint probabilities under independence\n",
    "expected_p_level_count = np.outer(p_level, p_count)  # Shape: (num_levels, max_count + 1)\n",
    "\n",
    "# Compute the differences between observed and expected joint probabilities\n",
    "diff = p_level_count - expected_p_level_count\n",
    "\n",
    "# Set a tolerance for considering probabilities equal (due to floating-point precision)\n",
    "tolerance = 1e-6\n",
    "\n",
    "# Check if all differences are within the tolerance\n",
    "independent = np.all(np.abs(diff) < tolerance)\n",
    "\n",
    "if independent:\n",
    "    print(\"\\nLevel and Count are independent (within the tolerance).\")\n",
    "else:\n",
    "    print(\"\\nLevel and Count are not independent.\")\n",
    "\n",
    "# Optionally, print the differences\n",
    "print(\"\\nDifferences between observed and expected joint probabilities:\")\n",
    "for lvl in range(num_levels):\n",
    "    for cnt in range(max_count + 1):\n",
    "        observed = p_level_count[lvl, cnt]\n",
    "        expected = expected_p_level_count[lvl, cnt]\n",
    "        difference = observed - expected\n",
    "        if np.abs(difference) > tolerance:\n",
    "            print(f\"Level {lvl}, Count {cnt}: Observed = {observed:.6f}, Expected = {expected:.6f}, Difference = {difference:.6f}\")\n",
    "\n",
    "# Print the maximum absolute difference\n",
    "max_diff = np.max(np.abs(diff))\n",
    "print(f\"\\nMaximum absolute difference: {max_diff:.6f}\")\n"
   ]
  },
  {
   "cell_type": "code",
   "execution_count": 13,
   "metadata": {},
   "outputs": [
    {
     "name": "stdout",
     "output_type": "stream",
     "text": [
      "Observed Mutual Information: 0.3572 bits\n",
      "P-value from permutation test: 0.6803\n",
      "\n",
      "The observed mutual information is not statistically significant (p >= 0.05).\n"
     ]
    },
    {
     "data": {
      "image/png": "[encoded data removed]",
      "text/plain": [
       "<Figure size 640x480 with 1 Axes>"
      ]
     },
     "metadata": {},
     "output_type": "display_data"
    }
   ],
   "source": [
    "import numpy as np\n",
    "\n",
    "# Assuming you have already calculated the following from your data:\n",
    "# counts: Flattened array of neuron event counts\n",
    "# levels: Corresponding array of levels for each count\n",
    "# p_level: Probability distribution over levels\n",
    "# p_count: Probability distribution over counts\n",
    "# p_level_count: Joint probability distribution over levels and counts\n",
    "# mutual_info: Observed mutual information between Level and Count\n",
    "\n",
    "# If not, make sure to run the code to calculate these before proceeding.\n",
    "\n",
    "# Set the number of permutations\n",
    "num_permutations = 10000  # You can adjust this number based on your computational resources\n",
    "\n",
    "# Initialize an array to store mutual information values from permutations\n",
    "perm_mutual_info = np.zeros(num_permutations)\n",
    "\n",
    "# Concatenate counts and levels into a single dataset for permutation\n",
    "data = np.column_stack((levels, counts))\n",
    "\n",
    "# Calculate the observed mutual information (if not already calculated)\n",
    "def compute_mutual_information(levels, counts, num_levels, max_count):\n",
    "    N = len(counts)\n",
    "    # Recompute probabilities based on shuffled levels\n",
    "    counts_per_level = np.bincount(levels, minlength=num_levels)\n",
    "    p_level = counts_per_level / N\n",
    "    \n",
    "    counts_per_count = np.bincount(counts, minlength=max_count + 1)\n",
    "    p_count = counts_per_count / N\n",
    "    \n",
    "    joint_counts = np.zeros((num_levels, max_count + 1), dtype=int)\n",
    "    for lvl, cnt in zip(levels, counts):\n",
    "        joint_counts[lvl, cnt] += 1\n",
    "    p_level_count = joint_counts / N\n",
    "    \n",
    "    # Compute mutual information\n",
    "    mutual_info = 0.0\n",
    "    for lvl in range(num_levels):\n",
    "        for cnt in range(max_count + 1):\n",
    "            p_joint = p_level_count[lvl, cnt]\n",
    "            if p_joint > 0:\n",
    "                p_lvl = p_level[lvl]\n",
    "                p_cnt = p_count[cnt]\n",
    "                mutual_info += p_joint * np.log2(p_joint / (p_lvl * p_cnt))\n",
    "    return mutual_info\n",
    "\n",
    "# Get the number of levels and max count (if not already defined)\n",
    "num_levels = np.unique(levels).size\n",
    "max_count = counts.max()\n",
    "\n",
    "# Perform permutations\n",
    "for i in range(num_permutations):\n",
    "    # Permute the levels\n",
    "    permuted_levels = np.random.permutation(levels)\n",
    "    \n",
    "    # Compute mutual information for the permuted data\n",
    "    mi = compute_mutual_information(permuted_levels, counts, num_levels, max_count)\n",
    "    perm_mutual_info[i] = mi\n",
    "\n",
    "# Calculate the p-value\n",
    "# The p-value is the proportion of permuted mutual information values\n",
    "# that are greater than or equal to the observed mutual information\n",
    "p_value = np.sum(perm_mutual_info >= mutual_info) / num_permutations\n",
    "\n",
    "print(f\"Observed Mutual Information: {mutual_info:.4f} bits\")\n",
    "print(f\"P-value from permutation test: {p_value:.4f}\")\n",
    "\n",
    "if p_value < 0.05:\n",
    "    print(\"\\nThe observed mutual information is statistically significant (p < 0.05).\")\n",
    "else:\n",
    "    print(\"\\nThe observed mutual information is not statistically significant (p >= 0.05).\")\n",
    "\n",
    "# Optional: Plot the distribution of permuted mutual information values\n",
    "import matplotlib.pyplot as plt\n",
    "\n",
    "plt.hist(perm_mutual_info, bins=50, alpha=0.7, color='skyblue', edgecolor='black')\n",
    "plt.axvline(mutual_info, color='red', linestyle='dashed', linewidth=2)\n",
    "plt.xlabel('Mutual Information (bits)')\n",
    "plt.ylabel('Frequency')\n",
    "plt.title('Permutation Test for Mutual Information')\n",
    "plt.show()\n"
   ]
  }
 ],
 "metadata": {
  "kernelspec": {
   "display_name": ".venv",
   "language": "python",
   "name": "python3"
  },
  "language_info": {
   "codemirror_mode": {
    "name": "ipython",
    "version": 3
   },
   "file_extension": ".py",
   "mimetype": "text/x-python",
   "name": "python",
   "nbconvert_exporter": "python",
   "pygments_lexer": "ipython3",
   "version": "3.10.15"
  }
 },
 "nbformat": 4,
 "nbformat_minor": 2
}
