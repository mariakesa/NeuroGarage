{
 "cells": [
  {
   "cell_type": "code",
   "execution_count": 5,
   "metadata": {},
   "outputs": [
    {
     "data": {
      "text/plain": [
       "0.7125"
      ]
     },
     "execution_count": 5,
     "metadata": {},
     "output_type": "execute_result"
    }
   ],
   "source": [
    "(1.2589*5-((5*0.83)**2)/5)/4"
   ]
  },
  {
   "cell_type": "code",
   "execution_count": 3,
   "metadata": {},
   "outputs": [
    {
     "name": "stdout",
     "output_type": "stream",
     "text": [
      "[-1.00000000000000, 3.00000000000000]\n",
      "Critical points in [-4,4]: [-1.00000000000000, 3.00000000000000]\n",
      "Endpoints: [-4, 4]\n",
      "Function values: {-1.00000000000000: 11.6666666666667, 3.00000000000000: 1.00000000000000, -4: -15.3333333333333, 4: 3.33333333333333}\n"
     ]
    }
   ],
   "source": [
    "import sympy as sp\n",
    "\n",
    "# Define the symbol and function\n",
    "x = sp.symbols('x', real=True)\n",
    "f = 1/3*(x**3) - x**2-3*x + 10\n",
    "\n",
    "# Compute the derivative of f\n",
    "df = sp.diff(f, x)\n",
    "\n",
    "# Solve for x where the derivative equals zero\n",
    "critical_points = sp.solve(df, x)\n",
    "print(critical_points)\n",
    "# Filter the critical points to include only those in the interval [-4, 4]\n",
    "critical_points_in_region = [pt for pt in critical_points if pt >= -4 and pt <= 4]\n",
    "\n",
    "print(\"Critical points in [-4,4]:\", critical_points_in_region)\n",
    "\n",
    "# Optionally, if you need to consider the endpoints for an optimization problem, you can include:\n",
    "endpoints = [-4, 4]\n",
    "print(\"Endpoints:\", endpoints)\n",
    "\n",
    "# Evaluate the function at the critical points and endpoints if needed\n",
    "all_points = critical_points_in_region + endpoints\n",
    "values = {pt: f.subs(x, pt) for pt in all_points}\n",
    "print(\"Function values:\", values)\n"
   ]
  },
  {
   "cell_type": "code",
   "execution_count": 5,
   "metadata": {},
   "outputs": [
    {
     "name": "stdout",
     "output_type": "stream",
     "text": [
      "det(A): 6.0\n",
      "det(A.T): 6.0\n"
     ]
    }
   ],
   "source": [
    "import numpy as np\n",
    "\n",
    "# Define a square matrix A\n",
    "A = np.array([[1, 2,3], \n",
    "              [4, 5,6],\n",
    "              [1,2,1]])\n",
    "\n",
    "# Compute determinants of A and its transpose\n",
    "det_A = np.linalg.det(A)\n",
    "det_AT = np.linalg.det(A.T)\n",
    "\n",
    "print(\"det(A):\", det_A)\n",
    "print(\"det(A.T):\", det_AT)"
   ]
  },
  {
   "cell_type": "code",
   "execution_count": 4,
   "metadata": {},
   "outputs": [
    {
     "name": "stdout",
     "output_type": "stream",
     "text": [
      "-15.333333333333329\n",
      "11.666666666666666\n",
      "1.0\n",
      "3.333333333333332\n"
     ]
    }
   ],
   "source": [
    "x=[-4,-1,3,4]\n",
    "for x_i in x:\n",
    "    y=1/3*(x_i**3) - x_i**2-3*x_i + 10\n",
    "    print(y)"
   ]
  },
  {
   "cell_type": "code",
   "execution_count": 6,
   "metadata": {},
   "outputs": [
    {
     "data": {
      "text/plain": [
       "0.57"
      ]
     },
     "execution_count": 6,
     "metadata": {},
     "output_type": "execute_result"
    }
   ],
   "source": [
    "1.2589-0.83**2"
   ]
  },
  {
   "cell_type": "code",
   "execution_count": 8,
   "metadata": {},
   "outputs": [
    {
     "data": {
      "text/plain": [
       "2.198723712727973"
      ]
     },
     "execution_count": 8,
     "metadata": {},
     "output_type": "execute_result"
    }
   ],
   "source": [
    "import numpy as np\n",
    "\n",
    "(np.sqrt(5)*0.83)/np.sqrt(0.7125)"
   ]
  },
  {
   "cell_type": "code",
   "execution_count": 9,
   "metadata": {},
   "outputs": [
    {
     "data": {
      "text/plain": [
       "array([-2.77644511,  2.77644511])"
      ]
     },
     "execution_count": 9,
     "metadata": {},
     "output_type": "execute_result"
    }
   ],
   "source": [
    "from scipy import stats\n",
    "stats.t(df=4).ppf((0.025, 0.975))"
   ]
  },
  {
   "cell_type": "code",
   "execution_count": 12,
   "metadata": {},
   "outputs": [
    {
     "name": "stdout",
     "output_type": "stream",
     "text": [
      "Wald Test Statistic: 2.5503720000000003\n",
      "Two-sided p-value: 0.22053657894686074\n"
     ]
    }
   ],
   "source": [
    "import scipy.stats as stats\n",
    "\n",
    "# Given values\n",
    "mean = 42.6\n",
    "n = 33\n",
    "lambda_null = 0.03\n",
    "\n",
    "# Calculate MLE of lambda\n",
    "lambda_hat = 1 / mean\n",
    "\n",
    "# Variance of lambda_hat\n",
    "var_lambda_hat = (lambda_hat ** 2) / n\n",
    "\n",
    "# Wald test statistic\n",
    "W = (lambda_hat - lambda_null) ** 2 / var_lambda_hat\n",
    "\n",
    "# Two-sided p-value for chi-squared distribution with 1 degree of freedom\n",
    "p_value = 2 * (1 - stats.chi2.cdf(W, df=1))\n",
    "\n",
    "print(f\"Wald Test Statistic: {W}\")\n",
    "print(f\"Two-sided p-value: {p_value}\")\n"
   ]
  },
  {
   "cell_type": "code",
   "execution_count": 13,
   "metadata": {},
   "outputs": [
    {
     "data": {
      "text/plain": [
       "0.023474178403755867"
      ]
     },
     "execution_count": 13,
     "metadata": {},
     "output_type": "execute_result"
    }
   ],
   "source": [
    "1/42.6"
   ]
  },
  {
   "cell_type": "code",
   "execution_count": null,
   "metadata": {},
   "outputs": [],
   "source": [
    "2*()"
   ]
  },
  {
   "cell_type": "code",
   "execution_count": 10,
   "metadata": {},
   "outputs": [
    {
     "data": {
      "text/plain": [
       "-0.21808504495585435"
      ]
     },
     "execution_count": 10,
     "metadata": {},
     "output_type": "execute_result"
    }
   ],
   "source": [
    "0.83-2.77644511*np.sqrt(0.7125/5)"
   ]
  },
  {
   "cell_type": "code",
   "execution_count": 11,
   "metadata": {},
   "outputs": [
    {
     "data": {
      "text/plain": [
       "1.8780850449558542"
      ]
     },
     "execution_count": 11,
     "metadata": {},
     "output_type": "execute_result"
    }
   ],
   "source": [
    "0.83+2.77644511*np.sqrt(0.7125/5)"
   ]
  },
  {
   "cell_type": "code",
   "execution_count": 16,
   "metadata": {},
   "outputs": [
    {
     "data": {
      "text/plain": [
       "2.158440506947329"
      ]
     },
     "execution_count": 16,
     "metadata": {},
     "output_type": "execute_result"
    }
   ],
   "source": [
    "2*((33*np.log(1/42.6)-33)-(33*np.log(0.03)-0.03*33*42.6))"
   ]
  },
  {
   "cell_type": "code",
   "execution_count": 17,
   "metadata": {},
   "outputs": [
    {
     "name": "stdout",
     "output_type": "stream",
     "text": [
      "Test statistic: 2.158440506947329\n",
      "p-value: 0.14178852919249518\n"
     ]
    }
   ],
   "source": [
    "from scipy.stats import chi2\n",
    "\n",
    "test_statistic = 2.158440506947329\n",
    "df = 1  # degrees of freedom\n",
    "\n",
    "# For a likelihood ratio test, the p-value is computed as:\n",
    "p_value = 1 - chi2.cdf(test_statistic, df=df)\n",
    "\n",
    "print(\"Test statistic:\", test_statistic)\n",
    "print(\"p-value:\", p_value)"
   ]
  },
  {
   "cell_type": "code",
   "execution_count": 7,
   "metadata": {},
   "outputs": [
    {
     "data": {
      "text/plain": [
       "[1, 2, 3]"
      ]
     },
     "execution_count": 7,
     "metadata": {},
     "output_type": "execute_result"
    }
   ],
   "source": [
    "np.array([1,2,3])\n",
    "\n",
    "def len(x):\n",
    "    return x\n",
    "\n",
    "len([1,2,3])"
   ]
  }
 ],
 "metadata": {
  "kernelspec": {
   "display_name": ".venv",
   "language": "python",
   "name": "python3"
  },
  "language_info": {
   "codemirror_mode": {
    "name": "ipython",
    "version": 3
   },
   "file_extension": ".py",
   "mimetype": "text/x-python",
   "name": "python",
   "nbconvert_exporter": "python",
   "pygments_lexer": "ipython3",
   "version": "3.10.16"
  }
 },
 "nbformat": 4,
 "nbformat_minor": 2
}
