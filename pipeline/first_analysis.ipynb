{
 "cells": [
  {
   "cell_type": "code",
   "execution_count": null,
   "metadata": {},
   "outputs": [],
   "source": [
    "import os\n",
    "import pandas as pd\n",
    "from allensdk.brain_observatory.ecephys.ecephys_project_cache import EcephysProjectCache\n",
    "import numpy as np\n",
    "\n",
    "output_dir = '/home/maria/AllenData'\n",
    "manifest_path = os.path.join(output_dir, \"manifest.json\")\n",
    "\n",
    "functional_conn_session=[831882777]\n",
    "brain_obs_session=[757970808]\n",
    "\n",
    "cache = EcephysProjectCache.from_warehouse(manifest=manifest_path)\n",
    "func_session = cache.get_session_data(functional_conn_session[0])\n"
   ]
  }
 ],
 "metadata": {
  "language_info": {
   "name": "python"
  }
 },
 "nbformat": 4,
 "nbformat_minor": 2
}
