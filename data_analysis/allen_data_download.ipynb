{
 "cells": [
  {
   "cell_type": "code",
   "execution_count": 2,
   "metadata": {},
   "outputs": [
    {
     "name": "stdout",
     "output_type": "stream",
     "text": [
      "all targeted structures: ['VISal', 'VISam', 'VISl', 'VISp', 'VISpm', 'VISrl']\n"
     ]
    }
   ],
   "source": [
    "from pathlib import Path\n",
    "from dotenv import load_dotenv\n",
    "\n",
    "load_dotenv()\n",
    "\n",
    "import os\n",
    "\n",
    "from allensdk.core.brain_observatory_cache import BrainObservatoryCache\n",
    "import pprint\n",
    "\n",
    "# This class uses a 'manifest' to keep track of downloaded data and metadata.  \n",
    "# All downloaded files will be stored relative to the directory holding the manifest\n",
    "# file.  If 'manifest_file' is a relative path (as it is below), it will be \n",
    "# saved relative to your working directory.  It can also be an absolute path.\n",
    "output_dir= os.environ.get('HGMS_ALLEN_CACHE_PATH')\n",
    "boc =  BrainObservatoryCache(\n",
    "    manifest_file=str(Path(output_dir) / 'brain_observatory_manifest.json'))\n",
    "\n",
    "# Download a list of all targeted areas\n",
    "targeted_structures = boc.get_all_targeted_structures()\n",
    "print(\"all targeted structures: \" + str(targeted_structures))\n",
    "\n"
   ]
  },
  {
   "cell_type": "code",
   "execution_count": 35,
   "metadata": {},
   "outputs": [
    {
     "data": {
      "text/plain": [
       "[{'id': 506278598,\n",
       "  'imaging_depth': 275,\n",
       "  'targeted_structure': 'VISpm',\n",
       "  'cre_line': 'Rorb-IRES2-Cre',\n",
       "  'reporter_line': 'Ai93(TITL-GCaMP6f)',\n",
       "  'acquisition_age_days': 88,\n",
       "  'experiment_container_id': 511511001,\n",
       "  'session_type': 'three_session_B',\n",
       "  'donor_name': '228786',\n",
       "  'specimen_name': 'Rorb-IRES2-Cre;Camk2a-tTA;Ai93-228786',\n",
       "  'fail_eye_tracking': True},\n",
       " {'id': 505811062,\n",
       "  'imaging_depth': 275,\n",
       "  'targeted_structure': 'VISpm',\n",
       "  'cre_line': 'Rorb-IRES2-Cre',\n",
       "  'reporter_line': 'Ai93(TITL-GCaMP6f)',\n",
       "  'acquisition_age_days': 87,\n",
       "  'experiment_container_id': 511511001,\n",
       "  'session_type': 'three_session_C',\n",
       "  'donor_name': '228786',\n",
       "  'specimen_name': 'Rorb-IRES2-Cre;Camk2a-tTA;Ai93-228786',\n",
       "  'fail_eye_tracking': True},\n",
       " {'id': 506540916,\n",
       "  'imaging_depth': 275,\n",
       "  'targeted_structure': 'VISpm',\n",
       "  'cre_line': 'Rorb-IRES2-Cre',\n",
       "  'reporter_line': 'Ai93(TITL-GCaMP6f)',\n",
       "  'acquisition_age_days': 89,\n",
       "  'experiment_container_id': 511511001,\n",
       "  'session_type': 'three_session_A',\n",
       "  'donor_name': '228786',\n",
       "  'specimen_name': 'Rorb-IRES2-Cre;Camk2a-tTA;Ai93-228786',\n",
       "  'fail_eye_tracking': True}]"
      ]
     },
     "execution_count": 35,
     "metadata": {},
     "output_type": "execute_result"
    }
   ],
   "source": [
    "exp_id=511511001\n",
    "exps=boc.get_ophys_experiments(experiment_container_ids=[exp_id])\n",
    "exps"
   ]
  },
  {
   "cell_type": "code",
   "execution_count": 36,
   "metadata": {},
   "outputs": [
    {
     "data": {
      "text/plain": [
       "3"
      ]
     },
     "execution_count": 36,
     "metadata": {},
     "output_type": "execute_result"
    }
   ],
   "source": [
    "len(exps)"
   ]
  },
  {
   "cell_type": "code",
   "execution_count": 37,
   "metadata": {},
   "outputs": [
    {
     "data": {
      "text/plain": [
       "41"
      ]
     },
     "execution_count": 37,
     "metadata": {},
     "output_type": "execute_result"
    }
   ],
   "source": [
    "exps = boc.get_experiment_containers(cre_lines=['Emx1-IRES-Cre'])\n",
    "exps_ids = [exp['id'] for exp in exps]\n",
    "len(exps)"
   ]
  },
  {
   "cell_type": "code",
   "execution_count": 38,
   "metadata": {},
   "outputs": [
    {
     "data": {
      "text/plain": [
       "[565039910, 575766605, 561463418, 574529963]"
      ]
     },
     "execution_count": 38,
     "metadata": {},
     "output_type": "execute_result"
    }
   ],
   "source": [
    "[exps[i]['id'] for i in range(len(exps)) if exps[i]['targeted_structure']=='VISpm']"
   ]
  },
  {
   "cell_type": "code",
   "execution_count": 32,
   "metadata": {},
   "outputs": [],
   "source": [
    "for i in range(len(exps)):\n",
    "    if exps[i]['targeted_structure']=='VISli':\n",
    "        print(exps[i]['id'])"
   ]
  },
  {
   "cell_type": "code",
   "execution_count": 13,
   "metadata": {},
   "outputs": [],
   "source": [
    "# Find the experiment with the static static gratings stimulus\n",
    "exp = boc.get_ophys_experiments(experiment_container_ids=exps_ids)\n"
   ]
  },
  {
   "cell_type": "code",
   "execution_count": 12,
   "metadata": {},
   "outputs": [
    {
     "data": {
      "text/plain": [
       "123"
      ]
     },
     "execution_count": 12,
     "metadata": {},
     "output_type": "execute_result"
    }
   ],
   "source": [
    "len(exp)"
   ]
  },
  {
   "cell_type": "code",
   "execution_count": 26,
   "metadata": {},
   "outputs": [],
   "source": [
    "#exp=exp[1:]\n",
    "import time\n",
    "for i in range(len(exp)):\n",
    "    try: \n",
    "        #continue\n",
    "        #print(exp[i]['id'])  \n",
    "        #print(i)\n",
    "        #start=time.time()\n",
    "        data_set = boc.get_ophys_experiment_data(exp[i]['id'])\n",
    "        #end=time.time()\n",
    "        #print(end-start)\n",
    "    except:\n",
    "        print(exp[i]['id']) \n",
    "        continue"
   ]
  },
  {
   "cell_type": "code",
   "execution_count": 28,
   "metadata": {},
   "outputs": [],
   "source": [
    "#exp=exp[1:]\n",
    "import time\n",
    "for i in range(len(exp)):\n",
    "    try: \n",
    "        #print(exp[i]['id'])  \n",
    "        #print(i)\n",
    "        #start=time.time()\n",
    "        data_set = boc.get_ophys_experiment_events(exp[i]['id'])\n",
    "        #end=time.time()\n",
    "        #print(end-start)\n",
    "    except:\n",
    "        print(exp[i]['id']) \n",
    "        continue"
   ]
  }
 ],
 "metadata": {
  "kernelspec": {
   "display_name": ".venv",
   "language": "python",
   "name": "python3"
  },
  "language_info": {
   "codemirror_mode": {
    "name": "ipython",
    "version": 3
   },
   "file_extension": ".py",
   "mimetype": "text/x-python",
   "name": "python",
   "nbconvert_exporter": "python",
   "pygments_lexer": "ipython3",
   "version": "3.10.14"
  }
 },
 "nbformat": 4,
 "nbformat_minor": 2
}
