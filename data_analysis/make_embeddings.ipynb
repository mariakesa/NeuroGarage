{
 "cells": [
  {
   "cell_type": "code",
   "execution_count": 5,
   "metadata": {},
   "outputs": [],
   "source": [
    "from dotenv import load_dotenv\n",
    "\n",
    "load_dotenv()\n",
    "import sys\n",
    "sys.path.append('..')\n",
    "from HuggingMouse_local.src.HuggingMouse.make_embeddings import MakeEmbeddings"
   ]
  },
  {
   "cell_type": "code",
   "execution_count": 10,
   "metadata": {},
   "outputs": [
    {
     "name": "stderr",
     "output_type": "stream",
     "text": [
      "/home/maria/NeuroGarage/.venv/lib/python3.10/site-packages/huggingface_hub/file_download.py:1150: FutureWarning: `resume_download` is deprecated and will be removed in version 1.0.0. Downloads always resume when possible. If you want to force a new download, use `force_download=True`.\n",
      "  warnings.warn(\n"
     ]
    }
   ],
   "source": [
    "from transformers import AutoProcessor, CLIPModel,CLIPVisionModel\n",
    "\n",
    "model = CLIPVisionModel.from_pretrained(\"openai/clip-vit-base-patch32\")\n",
    "processor = AutoProcessor.from_pretrained(\"openai/clip-vit-base-patch32\")\n",
    "embs=MakeEmbeddings(processor,model)"
   ]
  },
  {
   "cell_type": "code",
   "execution_count": 11,
   "metadata": {},
   "outputs": [
    {
     "name": "stdout",
     "output_type": "stream",
     "text": [
      "(900, 304, 608)\n",
      "Time taken for embedding one movie:  66.30700206756592\n",
      "(900, 304, 608)\n",
      "Time taken for embedding one movie:  64.57299733161926\n",
      "(3600, 304, 608)\n",
      "Time taken for embedding one movie:  260.51134181022644\n",
      "(118, 918, 1174)\n",
      "Time taken for embedding one movie:  18.364081144332886\n"
     ]
    },
    {
     "data": {
      "text/plain": [
       "{'natural_movie_one': array([[-0.5946582 ,  1.73283958,  0.59725684, ...,  1.22986996,\n",
       "          1.12742019,  0.7693218 ],\n",
       "        [-0.4147664 ,  1.68675876,  0.59913915, ...,  1.25963306,\n",
       "          1.21150565,  0.715303  ],\n",
       "        [-0.5466581 ,  1.74375129,  0.59701991, ...,  1.16442204,\n",
       "          1.16863942,  0.68979049],\n",
       "        ...,\n",
       "        [-0.43800595,  2.30258989,  0.928038  , ...,  1.03956616,\n",
       "          1.11581564,  0.90092957],\n",
       "        [ 0.00923677,  2.35554481,  0.65621823, ...,  1.17199409,\n",
       "          0.83832967,  1.1803652 ],\n",
       "        [-0.14484239,  2.22609138,  1.0541538 , ...,  1.2633146 ,\n",
       "          0.93417323,  0.90587509]]),\n",
       " 'natural_movie_two': array([[-0.09627286,  2.11226678,  0.91499829, ...,  1.12678397,\n",
       "          0.92590296,  1.17925858],\n",
       "        [-0.20855659,  2.27263498,  0.8609674 , ...,  0.876329  ,\n",
       "          0.80109829,  0.87822598],\n",
       "        [-0.21861497,  2.2646513 ,  0.86371642, ...,  0.81486386,\n",
       "          0.79672992,  0.92322469],\n",
       "        ...,\n",
       "        [-0.57639486,  1.47938883,  0.82634073, ...,  0.72864848,\n",
       "          0.20616812,  0.83286887],\n",
       "        [-0.47707632,  1.61212683,  0.68105656, ...,  0.74181169,\n",
       "          0.04585652,  0.68766248],\n",
       "        [-0.5030362 ,  1.78440332,  0.78672057, ...,  0.69282353,\n",
       "          0.1334877 ,  0.77404255]]),\n",
       " 'natural_movie_three': array([[-1.00428164,  2.31643939,  0.54875469, ...,  1.20775664,\n",
       "          0.92520469,  0.58125073],\n",
       "        [-0.94338983,  2.26849318,  0.61617374, ...,  1.24530864,\n",
       "          0.91542923,  0.58300191],\n",
       "        [-0.54357815,  2.00094104,  0.62350857, ...,  1.31326866,\n",
       "          0.92512262,  0.37051371],\n",
       "        ...,\n",
       "        [ 1.51520932,  0.7698676 ,  1.5313189 , ...,  0.13221399,\n",
       "          1.72461629,  0.96246189],\n",
       "        [ 1.4040705 ,  0.54596615,  1.538818  , ...,  0.11473294,\n",
       "          1.54568923,  0.89091641],\n",
       "        [ 1.32372057,  0.52267098,  1.43492758, ..., -0.28750426,\n",
       "          1.88063157,  0.92042923]]),\n",
       " 'natural_scenes': array([[ 0.6700142 ,  1.21811736,  0.38896665, ..., -0.25076643,\n",
       "          0.80051148,  0.21717992],\n",
       "        [ 0.33094615,  1.04067588,  0.12652138, ..., -0.23386657,\n",
       "          0.10036881, -0.22170402],\n",
       "        [-0.26682204,  1.17119837, -0.19076425, ..., -0.1602211 ,\n",
       "          0.10326544,  0.41155687],\n",
       "        ...,\n",
       "        [-0.34359875,  0.86334008,  0.86659855, ...,  1.29662657,\n",
       "          1.10159695,  0.36635613],\n",
       "        [-0.09731195,  0.28480601,  1.0726676 , ...,  0.4971104 ,\n",
       "          0.79228348,  0.27405134],\n",
       "        [ 0.84889799,  0.83981764,  0.76890713, ...,  0.30201417,\n",
       "          1.05360103,  1.06067216]])}"
      ]
     },
     "execution_count": 11,
     "metadata": {},
     "output_type": "execute_result"
    }
   ],
   "source": [
    "embs.execute()"
   ]
  },
  {
   "cell_type": "code",
   "execution_count": null,
   "metadata": {},
   "outputs": [],
   "source": []
  }
 ],
 "metadata": {
  "kernelspec": {
   "display_name": ".venv",
   "language": "python",
   "name": "python3"
  },
  "language_info": {
   "codemirror_mode": {
    "name": "ipython",
    "version": 3
   },
   "file_extension": ".py",
   "mimetype": "text/x-python",
   "name": "python",
   "nbconvert_exporter": "python",
   "pygments_lexer": "ipython3",
   "version": "3.10.15"
  }
 },
 "nbformat": 4,
 "nbformat_minor": 2
}
