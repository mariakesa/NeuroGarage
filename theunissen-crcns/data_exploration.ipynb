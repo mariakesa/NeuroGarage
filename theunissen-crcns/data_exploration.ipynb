{
 "cells": [
  {
   "cell_type": "code",
   "execution_count": null,
   "metadata": {},
   "outputs": [],
   "source": []
  },
  {
   "cell_type": "code",
   "execution_count": 4,
   "metadata": {},
   "outputs": [],
   "source": [
    "import numpy as np\n",
    "\n",
    "def parse_spike_file(filename):\n",
    "    with open(filename, 'r') as file:\n",
    "        # Read lines and split them into lists of floats\n",
    "        data = [list(map(float, line.strip().split())) for line in file if line.strip()]\n",
    "    \n",
    "    # Convert the list of lists into a numpy array\n",
    "    spike_array=data\n",
    "    return spike_array\n",
    "\n",
    "spks=parse_spike_file('../crcns-student/data/l2a_avg/conspecific/spike1')"
   ]
  },
  {
   "cell_type": "code",
   "execution_count": 8,
   "metadata": {},
   "outputs": [],
   "source": [
    "import numpy as np\n",
    "\n",
    "def bin_spike_times(spike_array, bin_size_ms=10):\n",
    "    # Flatten all spike times to find the max time\n",
    "    max_time = 2000\n",
    "    \n",
    "    # Calculate the bin edges from 0 to max_time with the specified bin size\n",
    "    bins = np.arange(0, max_time + bin_size_ms, bin_size_ms)\n",
    "    \n",
    "    # Initialize an array to store the binned counts (rows = neurons, columns = bins)\n",
    "    binned_spike_counts = np.zeros((10, len(bins) - 1), dtype=int)\n",
    "    \n",
    "    # Bin the spike times for each neuron\n",
    "    for i, spikes in enumerate(spike_array):\n",
    "        # Use np.histogram to count the number of spikes in each bin\n",
    "        binned_spike_counts[i], _ = np.histogram(spikes, bins=bins)\n",
    "    \n",
    "    return binned_spike_counts, bins\n",
    "\n",
    "binned, bins = bin_spike_times(spks, bin_size_ms=10)"
   ]
  },
  {
   "cell_type": "code",
   "execution_count": 9,
   "metadata": {},
   "outputs": [
    {
     "data": {
      "text/plain": [
       "array([[0, 0, 1, ..., 0, 0, 0],\n",
       "       [0, 1, 0, ..., 0, 0, 0],\n",
       "       [0, 1, 0, ..., 0, 0, 0],\n",
       "       ...,\n",
       "       [0, 0, 0, ..., 0, 0, 0],\n",
       "       [0, 0, 0, ..., 0, 0, 0],\n",
       "       [0, 0, 0, ..., 0, 0, 0]])"
      ]
     },
     "execution_count": 9,
     "metadata": {},
     "output_type": "execute_result"
    }
   ],
   "source": [
    "binned"
   ]
  },
  {
   "cell_type": "code",
   "execution_count": 10,
   "metadata": {},
   "outputs": [
    {
     "data": {
      "text/plain": [
       "(10, 200)"
      ]
     },
     "execution_count": 10,
     "metadata": {},
     "output_type": "execute_result"
    }
   ],
   "source": [
    "binned.shape"
   ]
  },
  {
   "cell_type": "code",
   "execution_count": null,
   "metadata": {},
   "outputs": [],
   "source": []
  }
 ],
 "metadata": {
  "kernelspec": {
   "display_name": ".venv",
   "language": "python",
   "name": "python3"
  },
  "language_info": {
   "codemirror_mode": {
    "name": "ipython",
    "version": 3
   },
   "file_extension": ".py",
   "mimetype": "text/x-python",
   "name": "python",
   "nbconvert_exporter": "python",
   "pygments_lexer": "ipython3",
   "version": "3.10.15"
  }
 },
 "nbformat": 4,
 "nbformat_minor": 2
}
